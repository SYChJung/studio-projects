{
 "cells": [
  {
   "cell_type": "markdown",
   "metadata": {},
   "source": [
    "Data Source\n",
    "- Wikipedia ( https://en.wikipedia.org/wiki/History_of_Korea )\n",
    "- Namuwiki  (https://namu.wiki/w/%ED%95%9C%EA%B5%AD%EC%82%AC )\n"
   ]
  },
  {
   "cell_type": "markdown",
   "metadata": {},
   "source": [
    "I decided to write the whole damn thing"
   ]
  },
  {
   "cell_type": "markdown",
   "metadata": {},
   "source": [
    "Soma said he supports my decision"
   ]
  },
  {
   "cell_type": "code",
   "execution_count": 1,
   "metadata": {},
   "outputs": [
    {
     "data": {
      "text/plain": [
       "[{'Age': 'Ancient',\n",
       "  'Description': 'First Korean nation',\n",
       "  'Fall': 'Perished by Han dynasty of China',\n",
       "  'Name': 'Gojoseon',\n",
       "  'Preceded by': '',\n",
       "  'Succeeded by': 'Buyeo, Mahan confederacy',\n",
       "  'Year of fall': -108,\n",
       "  'Year of foundation': -2333}]"
      ]
     },
     "execution_count": 1,
     "metadata": {},
     "output_type": "execute_result"
    }
   ],
   "source": [
    "Korean_kingdoms_df = [{\n",
    "    'Name'               : 'Gojoseon',\n",
    "    'Description'        : 'First Korean nation',\n",
    "    'Preceded by'        : '',\n",
    "    'Year of foundation' : -2333,\n",
    "    'Year of fall'       : -108,\n",
    "    'Fall'               : 'Perished by Han dynasty of China',\n",
    "    'Succeeded by'       : 'Buyeo, Mahan confederacy',\n",
    "    'Age'                : 'Ancient'\n",
    "}]\n",
    "Korean_kingdoms_df\n"
   ]
  },
  {
   "cell_type": "code",
   "execution_count": 2,
   "metadata": {},
   "outputs": [
    {
     "data": {
      "text/plain": [
       "[{'Age': 'Ancient',\n",
       "  'Description': 'First Korean nation',\n",
       "  'Fall': 'Perished by Han dynasty of China',\n",
       "  'Name': 'Gojoseon',\n",
       "  'Preceded by': '',\n",
       "  'Succeeded by': 'Buyeo, Mahan confederacy',\n",
       "  'Year of fall': -108,\n",
       "  'Year of foundation': -2333},\n",
       " {'Age': 'Ancient',\n",
       "  'Description': 'Second Korean nation',\n",
       "  'Fall': 'Divied into three Hans of Mahan, Byeonhan, Jinhan',\n",
       "  'Name': 'Jin state',\n",
       "  'Preceded by': '',\n",
       "  'Succeeded by': 'Mahan confederacy, Byeonhan confederacy, Jinhan confederacy',\n",
       "  'Year of fall': -200,\n",
       "  'Year of foundation': -400}]"
      ]
     },
     "execution_count": 2,
     "metadata": {},
     "output_type": "execute_result"
    }
   ],
   "source": [
    "kingdom_info = {\n",
    "    'Name'               : 'Jin state',\n",
    "    'Description'        : 'Second Korean nation',\n",
    "    'Preceded by'        : '',\n",
    "    'Year of foundation' : -400,\n",
    "    'Year of fall'       : -200,\n",
    "    'Fall'               : 'Divied into three Hans of Mahan, Byeonhan, Jinhan',\n",
    "    'Succeeded by'       : 'Mahan confederacy, Byeonhan confederacy, Jinhan confederacy',\n",
    "    'Age'                : 'Ancient'\n",
    "}\n",
    "Korean_kingdoms_df.append(kingdom_info)\n",
    "# len(Korean_kingdoms_df)\n",
    "Korean_kingdoms_df\n"
   ]
  },
  {
   "cell_type": "code",
   "execution_count": 3,
   "metadata": {},
   "outputs": [
    {
     "data": {
      "text/plain": [
       "3"
      ]
     },
     "execution_count": 3,
     "metadata": {},
     "output_type": "execute_result"
    }
   ],
   "source": [
    "kingdom_info = {\n",
    "    'Name'               : 'Buyeo',\n",
    "    'Description'        : 'Northern trace of Gojoseon',\n",
    "    'Preceded by'        : 'Gojoseon',\n",
    "    'Year of foundation' : -200,\n",
    "    'Year of fall'       : 494,\n",
    "    'Succeeded by'       : 'Goguryeo, Baekje',\n",
    "    'Fall'               : 'Conquered by Goguryeo',\n",
    "    'Age'                : 'Proto–Three Kingdoms'\n",
    "}\n",
    "Korean_kingdoms_df.append(kingdom_info)\n",
    "len(Korean_kingdoms_df)\n"
   ]
  },
  {
   "cell_type": "code",
   "execution_count": 4,
   "metadata": {},
   "outputs": [
    {
     "data": {
      "text/plain": [
       "4"
      ]
     },
     "execution_count": 4,
     "metadata": {},
     "output_type": "execute_result"
    }
   ],
   "source": [
    "kingdom_info = {\n",
    "    'Name'               : 'Goguryeo',\n",
    "    'Description'        : 'One of the Three Kingdoms',\n",
    "    'Preceded by'        : 'Buyeo',\n",
    "    'Year of foundation' : -37,\n",
    "    'Year of fall'       : 668,\n",
    "    'Succeeded by'       : 'Silla, Balhae',\n",
    "    'Fall'               : 'Perished by Silla, Tang dynasty of China',\n",
    "    'Age'                : 'Proto–Three Kingdoms, Three Kingdoms'\n",
    "}\n",
    "Korean_kingdoms_df.append(kingdom_info)\n",
    "len(Korean_kingdoms_df)\n"
   ]
  },
  {
   "cell_type": "code",
   "execution_count": 5,
   "metadata": {},
   "outputs": [
    {
     "data": {
      "text/plain": [
       "5"
      ]
     },
     "execution_count": 5,
     "metadata": {},
     "output_type": "execute_result"
    }
   ],
   "source": [
    "kingdom_info = {\n",
    "    'Name'               : 'Ogjeo',\n",
    "    'Description'        : 'Known for by its interesting marriage custom',\n",
    "    'Preceded by'        : 'Buyeo',\n",
    "    'Year of foundation' : -200,\n",
    "    'Year of fall'       : 244,\n",
    "    'Succeeded by'       : 'Goguryeo',\n",
    "    'Fall'               : 'Amalgamated to Goguryeo',\n",
    "    'Age'                : 'Proto–Three Kingdoms'\n",
    "}\n",
    "Korean_kingdoms_df.append(kingdom_info)\n",
    "len(Korean_kingdoms_df)\n"
   ]
  },
  {
   "cell_type": "code",
   "execution_count": 6,
   "metadata": {},
   "outputs": [
    {
     "data": {
      "text/plain": [
       "6"
      ]
     },
     "execution_count": 6,
     "metadata": {},
     "output_type": "execute_result"
    }
   ],
   "source": [
    "kingdom_info = {\n",
    "    'Name'               : 'Dong Ye',\n",
    "    'Description'        : 'The actual name is East Ye, \"dong\" means \"east\"',\n",
    "    'Preceded by'        : 'Buyeo',\n",
    "    'Year of foundation' : -200,\n",
    "    'Year of fall'       : 244,\n",
    "    'Succeeded by'       : 'Goguryeo',\n",
    "    'Fall'               : 'Amalgamated to Goguryeo',\n",
    "    'Age'                : 'Proto–Three Kingdoms'\n",
    "}\n",
    "Korean_kingdoms_df.append(kingdom_info)\n",
    "len(Korean_kingdoms_df)\n"
   ]
  },
  {
   "cell_type": "code",
   "execution_count": 7,
   "metadata": {},
   "outputs": [
    {
     "data": {
      "text/plain": [
       "7"
      ]
     },
     "execution_count": 7,
     "metadata": {},
     "output_type": "execute_result"
    }
   ],
   "source": [
    "kingdom_info = {\n",
    "    'Name'               : 'Mahan confederacy',\n",
    "    'Description'        : 'Confederacy of 54 city states, southern trace of Gojoseon',\n",
    "    'Preceded by'        : 'Jin state',\n",
    "    'Year of foundation' : -200,\n",
    "    'Year of fall'       : 300,\n",
    "    'Succeeded by'       : 'Baekje',\n",
    "    'Fall'               : 'Conquered by Baekje',\n",
    "    'Age'                : 'Proto–Three Kingdoms'\n",
    "}\n",
    "Korean_kingdoms_df.append(kingdom_info)\n",
    "len(Korean_kingdoms_df)\n"
   ]
  },
  {
   "cell_type": "code",
   "execution_count": 8,
   "metadata": {},
   "outputs": [
    {
     "data": {
      "text/plain": [
       "8"
      ]
     },
     "execution_count": 8,
     "metadata": {},
     "output_type": "execute_result"
    }
   ],
   "source": [
    "kingdom_info = {\n",
    "    'Name'               : 'Byeonhan confederacy',\n",
    "    'Description'        : 'Confederacy of 12 city states',\n",
    "    'Preceded by'        : 'Jin state',\n",
    "    'Year of foundation' : -200,\n",
    "    'Year of fall'       : 42,\n",
    "    'Succeeded by'       : 'Gaya confederacy',\n",
    "    'Fall'               : 'Succeeded by Gaya confederacy',\n",
    "    'Age'                : 'Proto–Three Kingdoms'\n",
    "}\n",
    "Korean_kingdoms_df.append(kingdom_info)\n",
    "len(Korean_kingdoms_df)\n"
   ]
  },
  {
   "cell_type": "code",
   "execution_count": 9,
   "metadata": {},
   "outputs": [
    {
     "data": {
      "text/plain": [
       "9"
      ]
     },
     "execution_count": 9,
     "metadata": {},
     "output_type": "execute_result"
    }
   ],
   "source": [
    "kingdom_info = {\n",
    "    'Name'               : 'Jinhan confederacy',\n",
    "    'Description'        : 'Confederacy of 12 city states',\n",
    "    'Preceded by'        : 'Jin state',\n",
    "    'Year of foundation' : -200,\n",
    "    'Year of fall'       : -57,\n",
    "    'Succeeded by'       : 'Silla',\n",
    "    'Fall'               : 'Conquered by Silla',\n",
    "    'Age'                : 'Proto–Three Kingdoms'\n",
    "}\n",
    "Korean_kingdoms_df.append(kingdom_info)\n",
    "len(Korean_kingdoms_df)\n"
   ]
  },
  {
   "cell_type": "code",
   "execution_count": 10,
   "metadata": {},
   "outputs": [
    {
     "data": {
      "text/plain": [
       "10"
      ]
     },
     "execution_count": 10,
     "metadata": {},
     "output_type": "execute_result"
    }
   ],
   "source": [
    "kingdom_info = {\n",
    "    'Name'               : 'Baekje',\n",
    "    'Description'        : 'One of the Three Kingdoms',\n",
    "    'Preceded by'        : 'Mahan confederacy',\n",
    "    'Year of foundation' : -18,\n",
    "    'Year of fall'       : 660,\n",
    "    'Succeeded by'       : 'Silla',\n",
    "    'Fall'               : 'Perished by Silla, Tang dynasty of China',\n",
    "    'Age'                : 'Three Kingdoms'\n",
    "}\n",
    "Korean_kingdoms_df.append(kingdom_info)\n",
    "len(Korean_kingdoms_df)\n"
   ]
  },
  {
   "cell_type": "code",
   "execution_count": 11,
   "metadata": {},
   "outputs": [
    {
     "data": {
      "text/plain": [
       "11"
      ]
     },
     "execution_count": 11,
     "metadata": {},
     "output_type": "execute_result"
    }
   ],
   "source": [
    "kingdom_info = {\n",
    "    'Name'               : 'Gaya confederacy',\n",
    "    'Description'        : 'Confederacy of 6 Iron Kingdoms',\n",
    "    'Preceded by'        : 'Byeonhan confederacy',\n",
    "    'Year of foundation' : 42,\n",
    "    'Year of fall'       : 562,\n",
    "    'Succeeded by'       : 'Baekje, Silla',\n",
    "    'Fall'               : 'Conquered by Silla, Baekje',\n",
    "    'Age'                : 'Three Kingdoms'\n",
    "}\n",
    "Korean_kingdoms_df.append(kingdom_info)\n",
    "len(Korean_kingdoms_df)\n"
   ]
  },
  {
   "cell_type": "code",
   "execution_count": 12,
   "metadata": {},
   "outputs": [
    {
     "data": {
      "text/plain": [
       "12"
      ]
     },
     "execution_count": 12,
     "metadata": {},
     "output_type": "execute_result"
    }
   ],
   "source": [
    "kingdom_info = {\n",
    "    'Name'               : 'Silla',\n",
    "    'Description'        : 'One of the Three Kingdoms',\n",
    "    'Preceded by'        : 'Jinhan confederacy',\n",
    "    'Year of foundation' : -57,\n",
    "    'Year of fall'       : 935,\n",
    "    'Succeeded by'       : 'Goryeo',\n",
    "    'Fall'               : 'Conquered by Goryeo',\n",
    "    'Age'                : 'Three Kingdoms, North–South States, Later Three Kingdoms'\n",
    "}\n",
    "Korean_kingdoms_df.append(kingdom_info)\n",
    "len(Korean_kingdoms_df)\n"
   ]
  },
  {
   "cell_type": "code",
   "execution_count": 13,
   "metadata": {},
   "outputs": [
    {
     "data": {
      "text/plain": [
       "13"
      ]
     },
     "execution_count": 13,
     "metadata": {},
     "output_type": "execute_result"
    }
   ],
   "source": [
    "kingdom_info = {\n",
    "    'Name'               : 'Usan state',\n",
    "    'Description'        : 'Island kingdom of Ulleungdo',\n",
    "    'Preceded by'        : 'Ogjeo, Dong Ye',\n",
    "    'Year of foundation' : 244,\n",
    "    'Year of fall'       : 930,\n",
    "    'Succeeded by'       : 'Goryeo',\n",
    "    'Fall'               : 'Vassal state of Silla; absorbed into Goryeo',\n",
    "    'Age'                : 'Three Kingdoms, North–South States, Later Three Kingdoms, Unitary dynastic period'\n",
    "}\n",
    "Korean_kingdoms_df.append(kingdom_info)\n",
    "len(Korean_kingdoms_df)\n"
   ]
  },
  {
   "cell_type": "code",
   "execution_count": 14,
   "metadata": {},
   "outputs": [
    {
     "data": {
      "text/plain": [
       "14"
      ]
     },
     "execution_count": 14,
     "metadata": {},
     "output_type": "execute_result"
    }
   ],
   "source": [
    "kingdom_info = {\n",
    "    'Name'               : 'Tamna',\n",
    "    'Description'        : 'Island kingdom of Jeju Island',\n",
    "    'Preceded by'        : '',\n",
    "    'Year of foundation' : 300,\n",
    "    'Year of fall'       : 1105,\n",
    "    'Succeeded by'       : 'Goryeo',\n",
    "    'Fall'               : 'Vassal state of Baekje, Silla; absorbed into Goryeo',\n",
    "    'Age'                : 'Three Kingdoms, North–South States, Later Three Kingdoms, Unitary dynastic period'\n",
    "}\n",
    "Korean_kingdoms_df.append(kingdom_info)\n",
    "len(Korean_kingdoms_df)\n"
   ]
  },
  {
   "cell_type": "code",
   "execution_count": 15,
   "metadata": {},
   "outputs": [
    {
     "data": {
      "text/plain": [
       "15"
      ]
     },
     "execution_count": 15,
     "metadata": {},
     "output_type": "execute_result"
    }
   ],
   "source": [
    "kingdom_info = {\n",
    "    'Name'               : 'Balhae',\n",
    "    'Description'        : 'Revival of Goguryeo',\n",
    "    'Preceded by'        : 'Goguryeo',\n",
    "    'Year of foundation' : 698,\n",
    "    'Year of fall'       : 926,\n",
    "    'Succeeded by'       : 'Goryeo',\n",
    "    'Fall'               : 'Perished by Liao dynasty of northen China; absorbed into by Goryeo',\n",
    "    'Age'                : 'North–South States'\n",
    "}\n",
    "Korean_kingdoms_df.append(kingdom_info)\n",
    "len(Korean_kingdoms_df)\n"
   ]
  },
  {
   "cell_type": "code",
   "execution_count": 16,
   "metadata": {},
   "outputs": [
    {
     "data": {
      "text/plain": [
       "16"
      ]
     },
     "execution_count": 16,
     "metadata": {},
     "output_type": "execute_result"
    }
   ],
   "source": [
    "kingdom_info = {\n",
    "    'Name'               : 'Later Goguryeo',\n",
    "    'Description'        : 'Kingdom of the Monk King Gung Ye',\n",
    "    'Preceded by'        : 'Silla',\n",
    "    'Year of foundation' : 901,\n",
    "    'Year of fall'       : 918,\n",
    "    'Succeeded by'       : 'Goryeo',\n",
    "    'Fall'               : 'Succeeded by to Goryeo',\n",
    "    'Age'                : 'Later Three Kingdoms'\n",
    "}\n",
    "Korean_kingdoms_df.append(kingdom_info)\n",
    "len(Korean_kingdoms_df)\n",
    "\n",
    "\n"
   ]
  },
  {
   "cell_type": "code",
   "execution_count": 17,
   "metadata": {},
   "outputs": [
    {
     "data": {
      "text/plain": [
       "17"
      ]
     },
     "execution_count": 17,
     "metadata": {},
     "output_type": "execute_result"
    }
   ],
   "source": [
    "kingdom_info = {\n",
    "    'Name'               : 'Later Baekje',\n",
    "    'Description'        : 'Kingdom founded by and fallen to Gyeon Hwon',\n",
    "    'Preceded by'        : 'Baekje, Silla',\n",
    "    'Year of foundation' : 892,\n",
    "    'Year of fall'       : 936,\n",
    "    'Succeeded by'       : 'Goryeo',\n",
    "    'Fall'               : 'Conquered by Goryeo',\n",
    "    'Age'                : 'Later Three Kingdoms'\n",
    "}\n",
    "Korean_kingdoms_df.append(kingdom_info)\n",
    "len(Korean_kingdoms_df)\n"
   ]
  },
  {
   "cell_type": "code",
   "execution_count": 18,
   "metadata": {},
   "outputs": [
    {
     "data": {
      "text/plain": [
       "18"
      ]
     },
     "execution_count": 18,
     "metadata": {},
     "output_type": "execute_result"
    }
   ],
   "source": [
    "kingdom_info = {\n",
    "    'Name'               : 'Goryeo',\n",
    "    'Description'        : 'First United Kingdom of Korea',\n",
    "    'Preceded by'        : 'Later Goguryeo, Silla, Balhae',\n",
    "    'Year of foundation' : 918,\n",
    "    'Year of fall'       : 1392,\n",
    "    'Succeeded by'       : 'Joseon',\n",
    "    'Fall'               : 'Succeeded by Joseon',\n",
    "    'Age'                : 'Unitary dynastic period'\n",
    "}\n",
    "Korean_kingdoms_df.append(kingdom_info)\n",
    "len(Korean_kingdoms_df)\n"
   ]
  },
  {
   "cell_type": "code",
   "execution_count": 19,
   "metadata": {
    "collapsed": true
   },
   "outputs": [],
   "source": [
    "import pandas as pd\n"
   ]
  },
  {
   "cell_type": "code",
   "execution_count": 20,
   "metadata": {},
   "outputs": [
    {
     "data": {
      "text/html": [
       "<div>\n",
       "<style>\n",
       "    .dataframe thead tr:only-child th {\n",
       "        text-align: right;\n",
       "    }\n",
       "\n",
       "    .dataframe thead th {\n",
       "        text-align: left;\n",
       "    }\n",
       "\n",
       "    .dataframe tbody tr th {\n",
       "        vertical-align: top;\n",
       "    }\n",
       "</style>\n",
       "<table border=\"1\" class=\"dataframe\">\n",
       "  <thead>\n",
       "    <tr style=\"text-align: right;\">\n",
       "      <th></th>\n",
       "      <th>Age</th>\n",
       "      <th>Description</th>\n",
       "      <th>Fall</th>\n",
       "      <th>Name</th>\n",
       "      <th>Preceded by</th>\n",
       "      <th>Succeeded by</th>\n",
       "      <th>Year of fall</th>\n",
       "      <th>Year of foundation</th>\n",
       "    </tr>\n",
       "  </thead>\n",
       "  <tbody>\n",
       "    <tr>\n",
       "      <th>0</th>\n",
       "      <td>Ancient</td>\n",
       "      <td>First Korean nation</td>\n",
       "      <td>Perished by Han dynasty of China</td>\n",
       "      <td>Gojoseon</td>\n",
       "      <td></td>\n",
       "      <td>Buyeo, Mahan confederacy</td>\n",
       "      <td>-108</td>\n",
       "      <td>-2333</td>\n",
       "    </tr>\n",
       "    <tr>\n",
       "      <th>1</th>\n",
       "      <td>Ancient</td>\n",
       "      <td>Second Korean nation</td>\n",
       "      <td>Divied into three Hans of Mahan, Byeonhan, Jinhan</td>\n",
       "      <td>Jin state</td>\n",
       "      <td></td>\n",
       "      <td>Mahan confederacy, Byeonhan confederacy, Jinha...</td>\n",
       "      <td>-200</td>\n",
       "      <td>-400</td>\n",
       "    </tr>\n",
       "    <tr>\n",
       "      <th>2</th>\n",
       "      <td>Proto–Three Kingdoms</td>\n",
       "      <td>Northern trace of Gojoseon</td>\n",
       "      <td>Conquered by Goguryeo</td>\n",
       "      <td>Buyeo</td>\n",
       "      <td>Gojoseon</td>\n",
       "      <td>Goguryeo, Baekje</td>\n",
       "      <td>494</td>\n",
       "      <td>-200</td>\n",
       "    </tr>\n",
       "    <tr>\n",
       "      <th>3</th>\n",
       "      <td>Proto–Three Kingdoms, Three Kingdoms</td>\n",
       "      <td>One of the Three Kingdoms</td>\n",
       "      <td>Perished by Silla, Tang dynasty of China</td>\n",
       "      <td>Goguryeo</td>\n",
       "      <td>Buyeo</td>\n",
       "      <td>Silla, Balhae</td>\n",
       "      <td>668</td>\n",
       "      <td>-37</td>\n",
       "    </tr>\n",
       "    <tr>\n",
       "      <th>4</th>\n",
       "      <td>Proto–Three Kingdoms</td>\n",
       "      <td>Known for by its interesting marriage custom</td>\n",
       "      <td>Amalgamated to Goguryeo</td>\n",
       "      <td>Ogjeo</td>\n",
       "      <td>Buyeo</td>\n",
       "      <td>Goguryeo</td>\n",
       "      <td>244</td>\n",
       "      <td>-200</td>\n",
       "    </tr>\n",
       "  </tbody>\n",
       "</table>\n",
       "</div>"
      ],
      "text/plain": [
       "                                    Age  \\\n",
       "0                               Ancient   \n",
       "1                               Ancient   \n",
       "2                  Proto–Three Kingdoms   \n",
       "3  Proto–Three Kingdoms, Three Kingdoms   \n",
       "4                  Proto–Three Kingdoms   \n",
       "\n",
       "                                    Description  \\\n",
       "0                           First Korean nation   \n",
       "1                          Second Korean nation   \n",
       "2                    Northern trace of Gojoseon   \n",
       "3                     One of the Three Kingdoms   \n",
       "4  Known for by its interesting marriage custom   \n",
       "\n",
       "                                                Fall       Name Preceded by  \\\n",
       "0                   Perished by Han dynasty of China   Gojoseon               \n",
       "1  Divied into three Hans of Mahan, Byeonhan, Jinhan  Jin state               \n",
       "2                              Conquered by Goguryeo      Buyeo    Gojoseon   \n",
       "3           Perished by Silla, Tang dynasty of China   Goguryeo       Buyeo   \n",
       "4                            Amalgamated to Goguryeo      Ogjeo       Buyeo   \n",
       "\n",
       "                                        Succeeded by  Year of fall  \\\n",
       "0                           Buyeo, Mahan confederacy          -108   \n",
       "1  Mahan confederacy, Byeonhan confederacy, Jinha...          -200   \n",
       "2                                   Goguryeo, Baekje           494   \n",
       "3                                      Silla, Balhae           668   \n",
       "4                                           Goguryeo           244   \n",
       "\n",
       "   Year of foundation  \n",
       "0               -2333  \n",
       "1                -400  \n",
       "2                -200  \n",
       "3                 -37  \n",
       "4                -200  "
      ]
     },
     "execution_count": 20,
     "metadata": {},
     "output_type": "execute_result"
    }
   ],
   "source": [
    "Korean_kingdoms = pd.DataFrame(Korean_kingdoms_df)\n",
    "Korean_kingdoms.head()\n"
   ]
  },
  {
   "cell_type": "code",
   "execution_count": 21,
   "metadata": {
    "scrolled": false
   },
   "outputs": [
    {
     "data": {
      "text/html": [
       "<div>\n",
       "<style>\n",
       "    .dataframe thead tr:only-child th {\n",
       "        text-align: right;\n",
       "    }\n",
       "\n",
       "    .dataframe thead th {\n",
       "        text-align: left;\n",
       "    }\n",
       "\n",
       "    .dataframe tbody tr th {\n",
       "        vertical-align: top;\n",
       "    }\n",
       "</style>\n",
       "<table border=\"1\" class=\"dataframe\">\n",
       "  <thead>\n",
       "    <tr style=\"text-align: right;\">\n",
       "      <th></th>\n",
       "      <th>Name</th>\n",
       "      <th>Description</th>\n",
       "      <th>Preceded by</th>\n",
       "      <th>Year of foundation</th>\n",
       "      <th>Year of fall</th>\n",
       "      <th>Succeeded by</th>\n",
       "      <th>Fall</th>\n",
       "      <th>Age</th>\n",
       "    </tr>\n",
       "  </thead>\n",
       "  <tbody>\n",
       "    <tr>\n",
       "      <th>0</th>\n",
       "      <td>Gojoseon</td>\n",
       "      <td>First Korean nation</td>\n",
       "      <td></td>\n",
       "      <td>-2333</td>\n",
       "      <td>-108</td>\n",
       "      <td>Buyeo, Mahan confederacy</td>\n",
       "      <td>Perished by Han dynasty of China</td>\n",
       "      <td>Ancient</td>\n",
       "    </tr>\n",
       "    <tr>\n",
       "      <th>1</th>\n",
       "      <td>Jin state</td>\n",
       "      <td>Second Korean nation</td>\n",
       "      <td></td>\n",
       "      <td>-400</td>\n",
       "      <td>-200</td>\n",
       "      <td>Mahan confederacy, Byeonhan confederacy, Jinha...</td>\n",
       "      <td>Divied into three Hans of Mahan, Byeonhan, Jinhan</td>\n",
       "      <td>Ancient</td>\n",
       "    </tr>\n",
       "    <tr>\n",
       "      <th>2</th>\n",
       "      <td>Buyeo</td>\n",
       "      <td>Northern trace of Gojoseon</td>\n",
       "      <td>Gojoseon</td>\n",
       "      <td>-200</td>\n",
       "      <td>494</td>\n",
       "      <td>Goguryeo, Baekje</td>\n",
       "      <td>Conquered by Goguryeo</td>\n",
       "      <td>Proto–Three Kingdoms</td>\n",
       "    </tr>\n",
       "    <tr>\n",
       "      <th>3</th>\n",
       "      <td>Goguryeo</td>\n",
       "      <td>One of the Three Kingdoms</td>\n",
       "      <td>Buyeo</td>\n",
       "      <td>-37</td>\n",
       "      <td>668</td>\n",
       "      <td>Silla, Balhae</td>\n",
       "      <td>Perished by Silla, Tang dynasty of China</td>\n",
       "      <td>Proto–Three Kingdoms, Three Kingdoms</td>\n",
       "    </tr>\n",
       "    <tr>\n",
       "      <th>4</th>\n",
       "      <td>Ogjeo</td>\n",
       "      <td>Known for by its interesting marriage custom</td>\n",
       "      <td>Buyeo</td>\n",
       "      <td>-200</td>\n",
       "      <td>244</td>\n",
       "      <td>Goguryeo</td>\n",
       "      <td>Amalgamated to Goguryeo</td>\n",
       "      <td>Proto–Three Kingdoms</td>\n",
       "    </tr>\n",
       "    <tr>\n",
       "      <th>5</th>\n",
       "      <td>Dong Ye</td>\n",
       "      <td>The actual name is East Ye, \"dong\" means \"east\"</td>\n",
       "      <td>Buyeo</td>\n",
       "      <td>-200</td>\n",
       "      <td>244</td>\n",
       "      <td>Goguryeo</td>\n",
       "      <td>Amalgamated to Goguryeo</td>\n",
       "      <td>Proto–Three Kingdoms</td>\n",
       "    </tr>\n",
       "    <tr>\n",
       "      <th>6</th>\n",
       "      <td>Mahan confederacy</td>\n",
       "      <td>Confederacy of 54 city states, southern trace ...</td>\n",
       "      <td>Jin state</td>\n",
       "      <td>-200</td>\n",
       "      <td>300</td>\n",
       "      <td>Baekje</td>\n",
       "      <td>Conquered by Baekje</td>\n",
       "      <td>Proto–Three Kingdoms</td>\n",
       "    </tr>\n",
       "    <tr>\n",
       "      <th>7</th>\n",
       "      <td>Byeonhan confederacy</td>\n",
       "      <td>Confederacy of 12 city states</td>\n",
       "      <td>Jin state</td>\n",
       "      <td>-200</td>\n",
       "      <td>42</td>\n",
       "      <td>Gaya confederacy</td>\n",
       "      <td>Succeeded by Gaya confederacy</td>\n",
       "      <td>Proto–Three Kingdoms</td>\n",
       "    </tr>\n",
       "    <tr>\n",
       "      <th>8</th>\n",
       "      <td>Jinhan confederacy</td>\n",
       "      <td>Confederacy of 12 city states</td>\n",
       "      <td>Jin state</td>\n",
       "      <td>-200</td>\n",
       "      <td>-57</td>\n",
       "      <td>Silla</td>\n",
       "      <td>Conquered by Silla</td>\n",
       "      <td>Proto–Three Kingdoms</td>\n",
       "    </tr>\n",
       "    <tr>\n",
       "      <th>9</th>\n",
       "      <td>Baekje</td>\n",
       "      <td>One of the Three Kingdoms</td>\n",
       "      <td>Mahan confederacy</td>\n",
       "      <td>-18</td>\n",
       "      <td>660</td>\n",
       "      <td>Silla</td>\n",
       "      <td>Perished by Silla, Tang dynasty of China</td>\n",
       "      <td>Three Kingdoms</td>\n",
       "    </tr>\n",
       "    <tr>\n",
       "      <th>10</th>\n",
       "      <td>Gaya confederacy</td>\n",
       "      <td>Confederacy of 6 Iron Kingdoms</td>\n",
       "      <td>Byeonhan confederacy</td>\n",
       "      <td>42</td>\n",
       "      <td>562</td>\n",
       "      <td>Baekje, Silla</td>\n",
       "      <td>Conquered by Silla, Baekje</td>\n",
       "      <td>Three Kingdoms</td>\n",
       "    </tr>\n",
       "    <tr>\n",
       "      <th>11</th>\n",
       "      <td>Silla</td>\n",
       "      <td>One of the Three Kingdoms</td>\n",
       "      <td>Jinhan confederacy</td>\n",
       "      <td>-57</td>\n",
       "      <td>935</td>\n",
       "      <td>Goryeo</td>\n",
       "      <td>Conquered by Goryeo</td>\n",
       "      <td>Three Kingdoms, North–South States, Later Thre...</td>\n",
       "    </tr>\n",
       "    <tr>\n",
       "      <th>12</th>\n",
       "      <td>Usan state</td>\n",
       "      <td>Island kingdom of Ulleungdo</td>\n",
       "      <td>Ogjeo, Dong Ye</td>\n",
       "      <td>244</td>\n",
       "      <td>930</td>\n",
       "      <td>Goryeo</td>\n",
       "      <td>Vassal state of Silla; absorbed into Goryeo</td>\n",
       "      <td>Three Kingdoms, North–South States, Later Thre...</td>\n",
       "    </tr>\n",
       "    <tr>\n",
       "      <th>13</th>\n",
       "      <td>Tamna</td>\n",
       "      <td>Island kingdom of Jeju Island</td>\n",
       "      <td></td>\n",
       "      <td>300</td>\n",
       "      <td>1105</td>\n",
       "      <td>Goryeo</td>\n",
       "      <td>Vassal state of Baekje, Silla; absorbed into G...</td>\n",
       "      <td>Three Kingdoms, North–South States, Later Thre...</td>\n",
       "    </tr>\n",
       "    <tr>\n",
       "      <th>14</th>\n",
       "      <td>Balhae</td>\n",
       "      <td>Revival of Goguryeo</td>\n",
       "      <td>Goguryeo</td>\n",
       "      <td>698</td>\n",
       "      <td>926</td>\n",
       "      <td>Goryeo</td>\n",
       "      <td>Perished by Liao dynasty of northen China; abs...</td>\n",
       "      <td>North–South States</td>\n",
       "    </tr>\n",
       "    <tr>\n",
       "      <th>15</th>\n",
       "      <td>Later Goguryeo</td>\n",
       "      <td>Kingdom of the Monk King Gung Ye</td>\n",
       "      <td>Silla</td>\n",
       "      <td>901</td>\n",
       "      <td>918</td>\n",
       "      <td>Goryeo</td>\n",
       "      <td>Succeeded by to Goryeo</td>\n",
       "      <td>Later Three Kingdoms</td>\n",
       "    </tr>\n",
       "    <tr>\n",
       "      <th>16</th>\n",
       "      <td>Later Baekje</td>\n",
       "      <td>Kingdom founded by and fallen to Gyeon Hwon</td>\n",
       "      <td>Baekje, Silla</td>\n",
       "      <td>892</td>\n",
       "      <td>936</td>\n",
       "      <td>Goryeo</td>\n",
       "      <td>Conquered by Goryeo</td>\n",
       "      <td>Later Three Kingdoms</td>\n",
       "    </tr>\n",
       "    <tr>\n",
       "      <th>17</th>\n",
       "      <td>Goryeo</td>\n",
       "      <td>First United Kingdom of Korea</td>\n",
       "      <td>Later Goguryeo, Silla, Balhae</td>\n",
       "      <td>918</td>\n",
       "      <td>1392</td>\n",
       "      <td>Joseon</td>\n",
       "      <td>Succeeded by Joseon</td>\n",
       "      <td>Unitary dynastic period</td>\n",
       "    </tr>\n",
       "  </tbody>\n",
       "</table>\n",
       "</div>"
      ],
      "text/plain": [
       "                    Name                                        Description  \\\n",
       "0               Gojoseon                                First Korean nation   \n",
       "1              Jin state                               Second Korean nation   \n",
       "2                  Buyeo                         Northern trace of Gojoseon   \n",
       "3               Goguryeo                          One of the Three Kingdoms   \n",
       "4                  Ogjeo       Known for by its interesting marriage custom   \n",
       "5                Dong Ye    The actual name is East Ye, \"dong\" means \"east\"   \n",
       "6      Mahan confederacy  Confederacy of 54 city states, southern trace ...   \n",
       "7   Byeonhan confederacy                      Confederacy of 12 city states   \n",
       "8     Jinhan confederacy                      Confederacy of 12 city states   \n",
       "9                 Baekje                          One of the Three Kingdoms   \n",
       "10      Gaya confederacy                     Confederacy of 6 Iron Kingdoms   \n",
       "11                 Silla                          One of the Three Kingdoms   \n",
       "12            Usan state                        Island kingdom of Ulleungdo   \n",
       "13                 Tamna                      Island kingdom of Jeju Island   \n",
       "14                Balhae                                Revival of Goguryeo   \n",
       "15        Later Goguryeo                   Kingdom of the Monk King Gung Ye   \n",
       "16          Later Baekje        Kingdom founded by and fallen to Gyeon Hwon   \n",
       "17                Goryeo                      First United Kingdom of Korea   \n",
       "\n",
       "                      Preceded by  Year of foundation  Year of fall  \\\n",
       "0                                               -2333          -108   \n",
       "1                                                -400          -200   \n",
       "2                        Gojoseon                -200           494   \n",
       "3                           Buyeo                 -37           668   \n",
       "4                           Buyeo                -200           244   \n",
       "5                           Buyeo                -200           244   \n",
       "6                       Jin state                -200           300   \n",
       "7                       Jin state                -200            42   \n",
       "8                       Jin state                -200           -57   \n",
       "9               Mahan confederacy                 -18           660   \n",
       "10           Byeonhan confederacy                  42           562   \n",
       "11             Jinhan confederacy                 -57           935   \n",
       "12                 Ogjeo, Dong Ye                 244           930   \n",
       "13                                                300          1105   \n",
       "14                       Goguryeo                 698           926   \n",
       "15                          Silla                 901           918   \n",
       "16                  Baekje, Silla                 892           936   \n",
       "17  Later Goguryeo, Silla, Balhae                 918          1392   \n",
       "\n",
       "                                         Succeeded by  \\\n",
       "0                            Buyeo, Mahan confederacy   \n",
       "1   Mahan confederacy, Byeonhan confederacy, Jinha...   \n",
       "2                                    Goguryeo, Baekje   \n",
       "3                                       Silla, Balhae   \n",
       "4                                            Goguryeo   \n",
       "5                                            Goguryeo   \n",
       "6                                              Baekje   \n",
       "7                                    Gaya confederacy   \n",
       "8                                               Silla   \n",
       "9                                               Silla   \n",
       "10                                      Baekje, Silla   \n",
       "11                                             Goryeo   \n",
       "12                                             Goryeo   \n",
       "13                                             Goryeo   \n",
       "14                                             Goryeo   \n",
       "15                                             Goryeo   \n",
       "16                                             Goryeo   \n",
       "17                                             Joseon   \n",
       "\n",
       "                                                 Fall  \\\n",
       "0                    Perished by Han dynasty of China   \n",
       "1   Divied into three Hans of Mahan, Byeonhan, Jinhan   \n",
       "2                               Conquered by Goguryeo   \n",
       "3            Perished by Silla, Tang dynasty of China   \n",
       "4                             Amalgamated to Goguryeo   \n",
       "5                             Amalgamated to Goguryeo   \n",
       "6                                 Conquered by Baekje   \n",
       "7                       Succeeded by Gaya confederacy   \n",
       "8                                  Conquered by Silla   \n",
       "9            Perished by Silla, Tang dynasty of China   \n",
       "10                         Conquered by Silla, Baekje   \n",
       "11                                Conquered by Goryeo   \n",
       "12        Vassal state of Silla; absorbed into Goryeo   \n",
       "13  Vassal state of Baekje, Silla; absorbed into G...   \n",
       "14  Perished by Liao dynasty of northen China; abs...   \n",
       "15                             Succeeded by to Goryeo   \n",
       "16                                Conquered by Goryeo   \n",
       "17                                Succeeded by Joseon   \n",
       "\n",
       "                                                  Age  \n",
       "0                                             Ancient  \n",
       "1                                             Ancient  \n",
       "2                                Proto–Three Kingdoms  \n",
       "3                Proto–Three Kingdoms, Three Kingdoms  \n",
       "4                                Proto–Three Kingdoms  \n",
       "5                                Proto–Three Kingdoms  \n",
       "6                                Proto–Three Kingdoms  \n",
       "7                                Proto–Three Kingdoms  \n",
       "8                                Proto–Three Kingdoms  \n",
       "9                                      Three Kingdoms  \n",
       "10                                     Three Kingdoms  \n",
       "11  Three Kingdoms, North–South States, Later Thre...  \n",
       "12  Three Kingdoms, North–South States, Later Thre...  \n",
       "13  Three Kingdoms, North–South States, Later Thre...  \n",
       "14                                 North–South States  \n",
       "15                               Later Three Kingdoms  \n",
       "16                               Later Three Kingdoms  \n",
       "17                            Unitary dynastic period  "
      ]
     },
     "execution_count": 21,
     "metadata": {},
     "output_type": "execute_result"
    }
   ],
   "source": [
    "Korean_kingdoms = pd.DataFrame(Korean_kingdoms, columns=['Name', 'Description', 'Preceded by', 'Year of foundation', 'Year of fall', 'Succeeded by', 'Fall', 'Age'])\n",
    "Korean_kingdoms\n"
   ]
  },
  {
   "cell_type": "code",
   "execution_count": 22,
   "metadata": {
    "collapsed": true
   },
   "outputs": [],
   "source": [
    "Korean_kingdoms_df = pd.DataFrame(Korean_kingdoms)\n",
    "Korean_kingdoms_df.to_csv(\"Korean_kingdoms.csv\")"
   ]
  },
  {
   "cell_type": "code",
   "execution_count": 23,
   "metadata": {},
   "outputs": [
    {
     "name": "stdout",
     "output_type": "stream",
     "text": [
      "[{\"Name\":\"Gojoseon\",\"Description\":\"First Korean nation\",\"Preceded by\":\"\",\"Year of foundation\":-2333,\"Year of fall\":-108,\"Succeeded by\":\"Buyeo, Mahan confederacy\",\"Fall\":\"Perished by Han dynasty of China\",\"Age\":\"Ancient\"},{\"Name\":\"Jin state\",\"Description\":\"Second Korean nation\",\"Preceded by\":\"\",\"Year of foundation\":-400,\"Year of fall\":-200,\"Succeeded by\":\"Mahan confederacy, Byeonhan confederacy, Jinhan confederacy\",\"Fall\":\"Divied into three Hans of Mahan, Byeonhan, Jinhan\",\"Age\":\"Ancient\"},{\"Name\":\"Buyeo\",\"Description\":\"Northern trace of Gojoseon\",\"Preceded by\":\"Gojoseon\",\"Year of foundation\":-200,\"Year of fall\":494,\"Succeeded by\":\"Goguryeo, Baekje\",\"Fall\":\"Conquered by Goguryeo\",\"Age\":\"Proto\\u2013Three Kingdoms\"},{\"Name\":\"Goguryeo\",\"Description\":\"One of the Three Kingdoms\",\"Preceded by\":\"Buyeo\",\"Year of foundation\":-37,\"Year of fall\":668,\"Succeeded by\":\"Silla, Balhae\",\"Fall\":\"Perished by Silla, Tang dynasty of China\",\"Age\":\"Proto\\u2013Three Kingdoms, Three Kingdoms\"},{\"Name\":\"Ogjeo\",\"Description\":\"Known for by its interesting marriage custom\",\"Preceded by\":\"Buyeo\",\"Year of foundation\":-200,\"Year of fall\":244,\"Succeeded by\":\"Goguryeo\",\"Fall\":\"Amalgamated to Goguryeo\",\"Age\":\"Proto\\u2013Three Kingdoms\"},{\"Name\":\"Dong Ye\",\"Description\":\"The actual name is East Ye, \\\"dong\\\" means \\\"east\\\"\",\"Preceded by\":\"Buyeo\",\"Year of foundation\":-200,\"Year of fall\":244,\"Succeeded by\":\"Goguryeo\",\"Fall\":\"Amalgamated to Goguryeo\",\"Age\":\"Proto\\u2013Three Kingdoms\"},{\"Name\":\"Mahan confederacy\",\"Description\":\"Confederacy of 54 city states, southern trace of Gojoseon\",\"Preceded by\":\"Jin state\",\"Year of foundation\":-200,\"Year of fall\":300,\"Succeeded by\":\"Baekje\",\"Fall\":\"Conquered by Baekje\",\"Age\":\"Proto\\u2013Three Kingdoms\"},{\"Name\":\"Byeonhan confederacy\",\"Description\":\"Confederacy of 12 city states\",\"Preceded by\":\"Jin state\",\"Year of foundation\":-200,\"Year of fall\":42,\"Succeeded by\":\"Gaya confederacy\",\"Fall\":\"Succeeded by Gaya confederacy\",\"Age\":\"Proto\\u2013Three Kingdoms\"},{\"Name\":\"Jinhan confederacy\",\"Description\":\"Confederacy of 12 city states\",\"Preceded by\":\"Jin state\",\"Year of foundation\":-200,\"Year of fall\":-57,\"Succeeded by\":\"Silla\",\"Fall\":\"Conquered by Silla\",\"Age\":\"Proto\\u2013Three Kingdoms\"},{\"Name\":\"Baekje\",\"Description\":\"One of the Three Kingdoms\",\"Preceded by\":\"Mahan confederacy\",\"Year of foundation\":-18,\"Year of fall\":660,\"Succeeded by\":\"Silla\",\"Fall\":\"Perished by Silla, Tang dynasty of China\",\"Age\":\"Three Kingdoms\"},{\"Name\":\"Gaya confederacy\",\"Description\":\"Confederacy of 6 Iron Kingdoms\",\"Preceded by\":\"Byeonhan confederacy\",\"Year of foundation\":42,\"Year of fall\":562,\"Succeeded by\":\"Baekje, Silla\",\"Fall\":\"Conquered by Silla, Baekje\",\"Age\":\"Three Kingdoms\"},{\"Name\":\"Silla\",\"Description\":\"One of the Three Kingdoms\",\"Preceded by\":\"Jinhan confederacy\",\"Year of foundation\":-57,\"Year of fall\":935,\"Succeeded by\":\"Goryeo\",\"Fall\":\"Conquered by Goryeo\",\"Age\":\"Three Kingdoms, North\\u2013South States, Later Three Kingdoms\"},{\"Name\":\"Usan state\",\"Description\":\"Island kingdom of Ulleungdo\",\"Preceded by\":\"Ogjeo, Dong Ye\",\"Year of foundation\":244,\"Year of fall\":930,\"Succeeded by\":\"Goryeo\",\"Fall\":\"Vassal state of Silla; absorbed into Goryeo\",\"Age\":\"Three Kingdoms, North\\u2013South States, Later Three Kingdoms, Unitary dynastic period\"},{\"Name\":\"Tamna\",\"Description\":\"Island kingdom of Jeju Island\",\"Preceded by\":\"\",\"Year of foundation\":300,\"Year of fall\":1105,\"Succeeded by\":\"Goryeo\",\"Fall\":\"Vassal state of Baekje, Silla; absorbed into Goryeo\",\"Age\":\"Three Kingdoms, North\\u2013South States, Later Three Kingdoms, Unitary dynastic period\"},{\"Name\":\"Balhae\",\"Description\":\"Revival of Goguryeo\",\"Preceded by\":\"Goguryeo\",\"Year of foundation\":698,\"Year of fall\":926,\"Succeeded by\":\"Goryeo\",\"Fall\":\"Perished by Liao dynasty of northen China; absorbed into by Goryeo\",\"Age\":\"North\\u2013South States\"},{\"Name\":\"Later Goguryeo\",\"Description\":\"Kingdom of the Monk King Gung Ye\",\"Preceded by\":\"Silla\",\"Year of foundation\":901,\"Year of fall\":918,\"Succeeded by\":\"Goryeo\",\"Fall\":\"Succeeded by to Goryeo\",\"Age\":\"Later Three Kingdoms\"},{\"Name\":\"Later Baekje\",\"Description\":\"Kingdom founded by and fallen to Gyeon Hwon\",\"Preceded by\":\"Baekje, Silla\",\"Year of foundation\":892,\"Year of fall\":936,\"Succeeded by\":\"Goryeo\",\"Fall\":\"Conquered by Goryeo\",\"Age\":\"Later Three Kingdoms\"},{\"Name\":\"Goryeo\",\"Description\":\"First United Kingdom of Korea\",\"Preceded by\":\"Later Goguryeo, Silla, Balhae\",\"Year of foundation\":918,\"Year of fall\":1392,\"Succeeded by\":\"Joseon\",\"Fall\":\"Succeeded by Joseon\",\"Age\":\"Unitary dynastic period\"}]\n"
     ]
    }
   ],
   "source": [
    "print(Korean_kingdoms_df.to_json(orient=\"records\"))\n"
   ]
  },
  {
   "cell_type": "code",
   "execution_count": null,
   "metadata": {
    "collapsed": true
   },
   "outputs": [],
   "source": []
  }
 ],
 "metadata": {
  "kernelspec": {
   "display_name": "Python 3",
   "language": "python",
   "name": "python3"
  },
  "language_info": {
   "codemirror_mode": {
    "name": "ipython",
    "version": 3
   },
   "file_extension": ".py",
   "mimetype": "text/x-python",
   "name": "python",
   "nbconvert_exporter": "python",
   "pygments_lexer": "ipython3",
   "version": "3.6.1"
  }
 },
 "nbformat": 4,
 "nbformat_minor": 2
}
