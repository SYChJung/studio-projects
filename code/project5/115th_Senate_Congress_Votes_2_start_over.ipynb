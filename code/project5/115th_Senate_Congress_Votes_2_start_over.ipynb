{
 "cells": [
  {
   "cell_type": "code",
   "execution_count": 1,
   "metadata": {
    "collapsed": true
   },
   "outputs": [],
   "source": [
    "from urllib.request import urlopen\n",
    "from bs4 import BeautifulSoup\n",
    "from selenium import webdriver\n",
    "import time\n"
   ]
  },
  {
   "cell_type": "markdown",
   "metadata": {},
   "source": [
    "# 1. Roll Call Votes 115th Congress - 1st Session (2017)"
   ]
  },
  {
   "cell_type": "code",
   "execution_count": 2,
   "metadata": {
    "collapsed": true
   },
   "outputs": [],
   "source": [
    "chrome_options = webdriver.ChromeOptions()\n",
    "chrome_options.add_argument(\"- - icognito\")\n",
    "\n",
    "driver = webdriver.Chrome(chrome_options = chrome_options)\n",
    "driver.get(\"https://www.senate.gov/legislative/LIS/roll_call_lists/vote_menu_115_1.htm\")\n"
   ]
  },
  {
   "cell_type": "code",
   "execution_count": 3,
   "metadata": {
    "collapsed": true
   },
   "outputs": [],
   "source": [
    "Senate115 = driver.page_source\n",
    "Senate115_soup = BeautifulSoup(Senate115, \"html.parser\")\n",
    "# Senate115_soup\n"
   ]
  },
  {
   "cell_type": "code",
   "execution_count": 4,
   "metadata": {
    "collapsed": true
   },
   "outputs": [],
   "source": [
    "Senate115_soup_table = Senate115_soup.find_all(\"table\")\n",
    "# Senate115_soup_table\n"
   ]
  },
  {
   "cell_type": "code",
   "execution_count": 5,
   "metadata": {
    "collapsed": true
   },
   "outputs": [],
   "source": [
    "Senate115_soup_table_0 = Senate115_soup_table[0]#.text\n",
    "# Senate115_soup_table_0\n",
    "\n"
   ]
  },
  {
   "cell_type": "code",
   "execution_count": 6,
   "metadata": {
    "collapsed": true
   },
   "outputs": [],
   "source": [
    "Senate115_soup_table_0_tr = Senate115_soup_table_0.find_all(\"tr\")\n",
    "# Senate115_soup_table_0_tr\n"
   ]
  },
  {
   "cell_type": "code",
   "execution_count": 7,
   "metadata": {},
   "outputs": [],
   "source": [
    "vote_link_list = []\n",
    "issue_link_list = []\n",
    "\n",
    "for element in Senate115_soup_table_0_tr[1:]: # `[1:]` to exclude the column names\n",
    "    element_td = element.find_all(\"td\")\n",
    "\n",
    "#     if  not \"PN\"          in element_td[3].text \\\n",
    "#     and not \"Treaty Doc.\" in element_td[3].text:\n",
    "    element_td_0_a = element_td[0].find_all('a')\n",
    "    vote_link_list.append(\"https://www.senate.gov\"+element_td_0_a[0]['href']) # Add \"https://www.senate.gov\"\n",
    "    \n",
    "    element_td_3_a = element_td[3].find_all('a')\n",
    "    issue_link_list.append(element_td_3_a[0]['href'])\n",
    "\n",
    "# vote_link_list\n",
    "issue_link_list_without_duplicates = list(set(issue_link_list))"
   ]
  },
  {
   "cell_type": "code",
   "execution_count": 8,
   "metadata": {},
   "outputs": [],
   "source": [
    "# 'https://www.senate.gov/legislative/LIS/roll_call_lists/roll_call_vote_cfm.cfm?congress=115&session=1&vote=00187'\n",
    "# \"https://www.senate.gov/legislative/LIS/roll_call_votes/vote1151/vote_115_1_00187.xml\"\n",
    "# \"https://www.senate.gov/legislative/LIS/roll_call_votes/vote1151/vote_115_1_00186.xml\"\n",
    "\n",
    "vote_xml_link_list = []\n",
    "\n",
    "for vote_link in vote_link_list:\n",
    "    vote_xml_link = vote_link.replace(\"/roll_call_lists/roll_call_vote_cfm.cfm?congress=115&session=1&vote=\", \n",
    "                                      \"/roll_call_votes/vote1151/vote_115_1_\")\n",
    "    vote_xml_link = vote_xml_link + \".xml\"\n",
    "    \n",
    "    vote_xml_link_list.append(vote_xml_link)\n",
    "\n",
    "vote_xml_link_list_without_duplicates = list(set(vote_xml_link_list))"
   ]
  },
  {
   "cell_type": "code",
   "execution_count": 9,
   "metadata": {
    "collapsed": true
   },
   "outputs": [],
   "source": [
    "vote_xml_link_issue_link_list = list(zip(vote_xml_link_list, issue_link_list))"
   ]
  },
  {
   "cell_type": "markdown",
   "metadata": {},
   "source": [
    "# 2. individual vote pages -> xml pages"
   ]
  },
  {
   "cell_type": "code",
   "execution_count": 10,
   "metadata": {
    "collapsed": true
   },
   "outputs": [],
   "source": [
    "def scrape_votes(start_index, end_index):\n",
    "    vote_xml_list = []\n",
    "    \n",
    "    if len(vote_xml_link_list_without_duplicates) < end_index:\n",
    "        end_index = len(vote_xml_link_list_without_duplicates)\n",
    "    \n",
    "    for vote_xml_link in vote_xml_link_list_without_duplicates[start_index:end_index]:\n",
    "        driver.get(vote_xml_link)\n",
    "        time.sleep(2)\n",
    "        vote_xml_list.append(driver.page_source)\n",
    "\n",
    "    return vote_xml_list"
   ]
  },
  {
   "cell_type": "code",
   "execution_count": 11,
   "metadata": {},
   "outputs": [],
   "source": [
    "# len(vote_xml_link_list_without_duplicates) # 187\n",
    "vote_xml_list_0_50 = scrape_votes(0, 50)"
   ]
  },
  {
   "cell_type": "code",
   "execution_count": 12,
   "metadata": {},
   "outputs": [],
   "source": [
    "vote_xml_list_50_100 = scrape_votes(50, 100)"
   ]
  },
  {
   "cell_type": "code",
   "execution_count": 13,
   "metadata": {
    "collapsed": true
   },
   "outputs": [],
   "source": [
    "vote_xml_list_100_187 = scrape_votes(100, 187)"
   ]
  },
  {
   "cell_type": "code",
   "execution_count": 15,
   "metadata": {},
   "outputs": [],
   "source": [
    "vote_xml_list = vote_xml_list_0_50 + vote_xml_list_50_100 + vote_xml_list_100_187\n",
    "vote_xml_link_to_xml = dict(zip(vote_xml_link_list_without_duplicates, vote_xml_list))\n"
   ]
  },
  {
   "cell_type": "markdown",
   "metadata": {},
   "source": [
    "# 3. individual issue pages"
   ]
  },
  {
   "cell_type": "code",
   "execution_count": 23,
   "metadata": {
    "collapsed": true
   },
   "outputs": [],
   "source": [
    "def scrape_issues(start_index, end_index):\n",
    "    issue_html_list = []\n",
    "    \n",
    "    if len(issue_link_list_without_duplicates) < end_index:\n",
    "        end_index = len(issue_link_list_without_duplicates)\n",
    "    \n",
    "    for issue_link in issue_link_list_without_duplicates[start_index:end_index]:\n",
    "        driver.get(issue_link)\n",
    "        time.sleep(2)\n",
    "        issue_html_list.append(driver.page_source)\n",
    "\n",
    "    return issue_html_list"
   ]
  },
  {
   "cell_type": "code",
   "execution_count": 24,
   "metadata": {},
   "outputs": [],
   "source": [
    "# len(issue_link_list_without_duplicates) # 81\n",
    "issue_html_list_0_50 = scrape_issues(0, 50)"
   ]
  },
  {
   "cell_type": "code",
   "execution_count": 25,
   "metadata": {
    "collapsed": true
   },
   "outputs": [],
   "source": [
    "issue_html_list_50_81 = scrape_issues(50, 81)"
   ]
  },
  {
   "cell_type": "code",
   "execution_count": 26,
   "metadata": {
    "collapsed": true
   },
   "outputs": [],
   "source": [
    "issue_html_list = issue_html_list_0_50 + issue_html_list_50_81\n",
    "issue_link_to_html = dict(zip(issue_link_list_without_duplicates, issue_html_list))\n"
   ]
  },
  {
   "cell_type": "markdown",
   "metadata": {},
   "source": [
    "# 4. save to files, just in case"
   ]
  },
  {
   "cell_type": "code",
   "execution_count": 27,
   "metadata": {
    "collapsed": true
   },
   "outputs": [],
   "source": [
    "import json"
   ]
  },
  {
   "cell_type": "code",
   "execution_count": 28,
   "metadata": {
    "collapsed": true
   },
   "outputs": [],
   "source": [
    "with open('vote_xml_link_to_xml.py', 'w') as f:\n",
    "    json.dump(vote_xml_link_to_xml, f, default=repr, indent=4)"
   ]
  },
  {
   "cell_type": "code",
   "execution_count": 29,
   "metadata": {
    "collapsed": true
   },
   "outputs": [],
   "source": [
    "with open('issue_link_to_html.py', 'w') as f:\n",
    "    json.dump(issue_link_to_html, f, default=repr, indent=4)"
   ]
  },
  {
   "cell_type": "markdown",
   "metadata": {},
   "source": [
    "# 5. get just the info I want from vote_xml"
   ]
  },
  {
   "cell_type": "code",
   "execution_count": 30,
   "metadata": {},
   "outputs": [
    {
     "name": "stdout",
     "output_type": "stream",
     "text": [
      "https://www.senate.gov/legislative/LIS/roll_call_votes/vote1151/vote_115_1_00086.xml\n"
     ]
    }
   ],
   "source": [
    "for vote_xml_link in vote_xml_link_to_xml:\n",
    "    print(vote_xml_link)\n",
    "    break\n",
    "\n",
    "# <member>\n",
    "#     <member_full>Alexander (R-TN)</member_full>\n",
    "#     <last_name>Alexander</last_name>\n",
    "#     <first_name>Lamar</first_name>\n",
    "#     <party>R</party>\n",
    "#     <state>TN</state>\n",
    "#     <vote_cast>Yea</vote_cast>\n",
    "#     <lis_member_id>S289</lis_member_id>\n",
    "# </member>\n",
    "\n",
    "\n",
    "#         for member in member_list:\n",
    "#             vote_info = {\n",
    "#                 \"Senator\"       : member.find('first_name').text + \" \" + member.find('last_name').text,\n",
    "#                 \"Party\"         : member.find('party').text,\n",
    "#                 \"State\"         : member.find('state').text,\n",
    "#                 \"Question\"      : page_doc.find('vote_document_text').text,\n",
    "#                 \"Vote number\"   : page_doc.find('vote_number').text,\n",
    "#                 \"Vote cast\"     : member.find('vote_cast').text,\n",
    "#                 \"Sponsor Party\" : sponsor_party.groups(1)[0],\n",
    "#             }\n",
    "#             vote_data.append(vote_info)"
   ]
  },
  {
   "cell_type": "markdown",
   "metadata": {},
   "source": [
    "# 6. get just the info I want from issue_html"
   ]
  },
  {
   "cell_type": "code",
   "execution_count": 38,
   "metadata": {
    "collapsed": true
   },
   "outputs": [],
   "source": [
    "import re"
   ]
  },
  {
   "cell_type": "code",
   "execution_count": 55,
   "metadata": {},
   "outputs": [
    {
     "name": "stdout",
     "output_type": "stream",
     "text": [
      "https://www.congress.gov/nomination/115th-congress/52\n",
      "{'description_ul_text': \"Terry Branstad, of Iowa, to be Ambassador Extraordinary and Plenipotentiary of the United States of America to the People's Republic of China.\"}\n",
      "http://www.congress.gov/bill/115th-congress/house-joint-resolution/44\n",
      "{'sponsor_td_text': 'Rep. Cheney, Liz [R-WY-At Large] (Introduced 01/30/2017)', 'sponsor_party': 'R'}\n",
      "http://www.congress.gov/bill/115th-congress/house-joint-resolution/69\n",
      "{'sponsor_td_text': 'Rep. Young, Don [R-AK-At Large] (Introduced 02/07/2017)', 'sponsor_party': 'R'}\n",
      "https://www.congress.gov/nomination/115th-congress/681\n",
      "{'description_ul_text': 'Marvin Kaplan, of Kansas, to be a Member of the National Labor Relations Board for the term of five years expiring August 27, 2020, vice Harry I. Johnson III, resigned.'}\n",
      "https://www.congress.gov/nomination/115th-congress/365\n",
      "{'description_ul_text': 'David Bernhardt, of Virginia, to be Deputy Secretary of the Interior, vice Michael L. Connor.'}\n",
      "https://www.congress.gov/nomination/115th-congress/366\n",
      "{'description_ul_text': 'Marshall Billingslea, of Virginia, to be Assistant Secretary for Terrorist Financing, Department of the Treasury, vice Daniel L. Glaser.'}\n",
      "https://www.congress.gov/nomination/115th-congress/36\n",
      "{'description_ul_text': 'James Richard Perry, of Texas, to be Secretary of Energy.'}\n",
      "https://www.congress.gov/nomination/115th-congress/47\n",
      "{'description_ul_text': 'Jay Clayton, of New York, to be a Member of the Securities and Exchange Commission for a term expiring June 5, 2021, vice Daniel M. Gallagher, Jr. (term expired).'}\n",
      "https://www.congress.gov/nomination/115th-congress/26\n",
      "{'description_ul_text': 'Steven T. Mnuchin, of California, to be Secretary of the Treasury.'}\n",
      "https://www.congress.gov/nomination/115th-congress/39\n",
      "{'description_ul_text': 'David J. Shulkin, of Pennsylvania, to be Secretary of Veterans Affairs.'}\n",
      "http://www.congress.gov/bill/115th-congress/house-bill/2430\n",
      "{'sponsor_td_text': 'Rep. Walden, Greg [R-OR-2] (Introduced 05/16/2017)', 'sponsor_party': 'R'}\n",
      "https://www.congress.gov/nomination/115th-congress/373\n",
      "{'description_ul_text': 'David C. Nye, of Idaho, to be United States District Judge for the District of Idaho, vice Edward J. Lodge, retired.'}\n",
      "http://www.congress.gov/bill/115th-congress/house-bill/1628\n",
      "{'sponsor_td_text': 'Rep. Black, Diane [R-TN-6] (Introduced 03/20/2017)', 'sponsor_party': 'R'}\n",
      "http://www.congress.gov/bill/115th-congress/house-joint-resolution/36\n",
      "{'sponsor_td_text': 'Rep. Bishop, Rob [R-UT-1] (Introduced 01/30/2017)', 'sponsor_party': 'R'}\n",
      "https://www.congress.gov/nomination/115th-congress/87\n",
      "{'description_ul_text': 'One nomination, beginning with Lt. Gen. Herbert R. McMaster Jr. and ending with Lt. Gen. Herbert R. McMaster Jr.'}\n",
      "https://www.congress.gov/nomination/115th-congress/172\n",
      "{'description_ul_text': 'Sigal Mandelker, of New York, to be Under Secretary for Terrorism and Financial Crimes, vice David S. Cohen, resigned.'}\n",
      "http://www.congress.gov/bill/115th-congress/senate-joint-resolution/34\n",
      "{'sponsor_td_text': 'Sen. Flake, Jeff [R-AZ] (Introduced 03/07/2017)', 'sponsor_party': 'R'}\n",
      "https://www.congress.gov/nomination/115th-congress/53\n",
      "{'description_ul_text': 'David Friedman, of New York, to be Ambassador Extraordinary and Plenipotentiary of the United States of America to Israel.'}\n",
      "https://www.congress.gov/nomination/115th-congress/459\n",
      "{'description_ul_text': 'Dan R. Brouillette, of Texas, to be Deputy Secretary of Energy, vice Elizabeth Sherwood-Randall.'}\n",
      "https://www.congress.gov/nomination/115th-congress/350\n",
      "{'description_ul_text': 'John J. Sullivan, of Maryland, to be Deputy Secretary of State, vice Antony Blinken, resigned.'}\n",
      "https://www.congress.gov/nomination/115th-congress/34\n",
      "{'description_ul_text': 'Benjamin S. Carson, Sr., of Florida, to be Secretary of Housing and Urban Development.'}\n",
      "https://www.congress.gov/nomination/115th-congress/105\n",
      "{'description_ul_text': 'Amul R. Thapar, of Kentucky, to be United States Circuit Judge for the Sixth Circuit, vice Boyce F. Martin Jr., retired.'}\n",
      "https://www.congress.gov/nomination/115th-congress/55\n",
      "{'description_ul_text': 'Neil M. Gorsuch, of Colorado, to be an Associate Justice of the Supreme Court of the United States, vice Antonin Scalia, deceased.'}\n",
      "http://www.congress.gov/bill/115th-congress/house-joint-resolution/41\n",
      "{'sponsor_td_text': 'Rep. Huizenga, Bill [R-MI-2] (Introduced 01/30/2017)', 'sponsor_party': 'R'}\n",
      "https://www.congress.gov/nomination/115th-congress/455\n",
      "{'description_ul_text': 'Brock Long, of North Carolina, to be Administrator of the Federal Emergency Management Agency, Department of Homeland Security, vice William Craig Fugate, resigned.'}\n",
      "https://www.congress.gov/nomination/115th-congress/59\n",
      "{'description_ul_text': 'Elaine C. Duke, of Virginia, to be Deputy Secretary of Homeland Security, vice Alejandro Nicholas Mayorkas.'}\n",
      "https://www.congress.gov/nomination/115th-congress/561\n",
      "{'description_ul_text': 'Kristine L. Svinicki, of Virginia, to be a Member of the Nuclear Regulatory Commission for the term of five years expiring June 30, 2022.  (Reappointment)'}\n",
      "https://www.congress.gov/nomination/115th-congress/43\n",
      "{'description_ul_text': 'Mike Pompeo, of Kansas, to be Director of the Central Intelligence Agency, vice John Owen Brennan.'}\n",
      "http://www.congress.gov/bill/115th-congress/senate-concurrent-resolution/3\n",
      "{'sponsor_td_text': 'Sen. Enzi, Michael B. [R-WY] (Introduced 01/03/2017)', 'sponsor_party': 'R'}\n",
      "https://www.congress.gov/nomination/115th-congress/349\n",
      "{'description_ul_text': 'Scott P. Brown, of New Hampshire, to be Ambassador Extraordinary and Plenipotentiary of the United States of America to New Zealand, and to serve concurrently and without additional compensation as Ambassador Extraordinary and Plenipotentiary of the United States of America to the Independent State of Samoa.'}\n",
      "https://www.congress.gov/nomination/115th-congress/88\n",
      "{'description_ul_text': 'R. Alexander Acosta, of Florida, to be Secretary of Labor.'}\n",
      "https://www.congress.gov/treaty-document/114th-congress/12\n",
      "{'description_ul_text': 'Protocol to the North Atlantic Treaty of 1949 on the Accession of Montenegro'}\n",
      "https://www.congress.gov/nomination/115th-congress/57\n",
      "{'description_ul_text': 'Rachel L. Brand, of Iowa, to be Associate Attorney General, vice Derek Anthony West, resigned.'}\n",
      "http://www.congress.gov/bill/115th-congress/house-joint-resolution/83\n",
      "{'sponsor_td_text': 'Rep. Byrne, Bradley [R-AL-1] (Introduced 02/21/2017)', 'sponsor_party': 'R'}\n",
      "http://www.congress.gov/bill/115th-congress/house-joint-resolution/40\n",
      "{'sponsor_td_text': 'Rep. Johnson, Sam [R-TX-3] (Introduced 01/30/2017)', 'sponsor_party': 'R'}\n",
      "http://www.congress.gov/bill/115th-congress/house-bill/3364\n",
      "{'sponsor_td_text': 'Rep. Royce, Edward R. [R-CA-39] (Introduced 07/24/2017)', 'sponsor_party': 'R'}\n",
      "http://www.congress.gov/bill/115th-congress/house-joint-resolution/42\n",
      "{'sponsor_td_text': 'Rep. Brady, Kevin [R-TX-8] (Introduced 01/30/2017)', 'sponsor_party': 'R'}\n",
      "https://www.congress.gov/nomination/115th-congress/40\n",
      "{'description_ul_text': 'John F. Kelly, of Virginia, to be Secretary of Homeland Security.'}\n",
      "https://www.congress.gov/nomination/115th-congress/29\n",
      "{'description_ul_text': 'James Mattis, of Washington, to be Secretary of Defense.'}\n",
      "https://www.congress.gov/nomination/115th-congress/370\n",
      "{'description_ul_text': 'John Kenneth Bush, of Kentucky, to be United States Circuit Judge for the Sixth Circuit, vice Danny J. Boggs, retired.'}\n",
      "https://www.congress.gov/nomination/115th-congress/118\n",
      "{'description_ul_text': 'Scott Gottlieb, of Connecticut, to be Commissioner of Food and Drugs, Department of Health and Human Services, vice Robert McKinnon Califf.'}\n",
      "http://www.congress.gov/bill/115th-congress/house-joint-resolution/37\n",
      "{'sponsor_td_text': 'Rep. Foxx, Virginia [R-NC-5] (Introduced 01/30/2017)', 'sponsor_party': 'R'}\n",
      "https://www.congress.gov/nomination/115th-congress/25\n",
      "{'description_ul_text': 'Rex W. Tillerson, of Texas, to be Secretary of State.'}\n",
      "https://www.congress.gov/nomination/115th-congress/102\n",
      "{'description_ul_text': 'Jeffrey A. Rosen, of Virginia, to be Deputy Secretary of Transportation, vice Victor M. Mendez.'}\n",
      "https://www.congress.gov/nomination/115th-congress/56\n",
      "{'description_ul_text': 'Rod J. Rosenstein, of Maryland, to be Deputy Attorney General, vice Sally Quillian Yates, resigned.'}\n",
      "https://www.congress.gov/nomination/115th-congress/85\n",
      "{'description_ul_text': 'Danny C. Reeves, of Kentucky, to be a Member of the United States Sentencing Commission for a term expiring October 31, 2019, vice Ricardo H. Hinojosa, term expired.'}\n",
      "https://www.congress.gov/nomination/115th-congress/48\n"
     ]
    },
    {
     "name": "stdout",
     "output_type": "stream",
     "text": [
      "{'description_ul_text': 'Linda E. McMahon, of Connecticut, to be Administrator of the Small Business Administration, vice Maria Contreras-Sweet, resigned.'}\n",
      "https://www.congress.gov/nomination/115th-congress/348\n",
      "{'description_ul_text': 'Kenneth P. Rapuano, of Virginia, to be an Assistant Secretary of Defense, vice Eric Rosenbach, resigned.'}\n",
      "http://www.congress.gov/bill/115th-congress/senate-joint-resolution/42\n",
      "{'sponsor_td_text': 'Sen. Paul, Rand [R-KY] (Introduced 05/25/2017)', 'sponsor_party': 'R'}\n",
      "http://www.congress.gov/bill/115th-congress/senate-resolution/176\n",
      "{'sponsor_td_text': 'Sen. McConnell, Mitch [R-KY] (Introduced 05/24/2017)', 'sponsor_party': 'R'}\n",
      "https://www.congress.gov/nomination/115th-congress/101\n",
      "{'description_ul_text': 'Heather Wilson, of South Dakota, to be Secretary of the Air Force, vice Deborah Lee James.'}\n",
      "https://www.congress.gov/nomination/115th-congress/49\n",
      "{'description_ul_text': 'Seema Verma, of Indiana, to be Administrator of the Centers for Medicare and Medicaid Services, vice Marilyn B. Tavenner.'}\n",
      "https://www.congress.gov/nomination/115th-congress/33\n",
      "{'description_ul_text': 'Thomas Price, of Georgia, to be Secretary of Health and Human Services.'}\n",
      "http://www.congress.gov/bill/115th-congress/house-joint-resolution/58\n",
      "{'sponsor_td_text': 'Rep. Guthrie, Brett [R-KY-2] (Introduced 02/01/2017)', 'sponsor_party': 'R'}\n",
      "https://www.congress.gov/nomination/115th-congress/51\n",
      "{'description_ul_text': 'Nikki R. Haley, of South Carolina, to be Representative of the United States of America to the Sessions of the General Assembly of the United Nations during her tenure of service as Representative of the United States of America to the United Nations.'}\n",
      "http://www.congress.gov/bill/115th-congress/house-bill/244\n",
      "{'sponsor_td_text': 'Rep. Cook, Paul [R-CA-8] (Introduced 01/04/2017)', 'sponsor_party': 'R'}\n",
      "https://www.congress.gov/nomination/115th-congress/37\n",
      "{'description_ul_text': 'Elisabeth Prince DeVos, of Michigan, to be Secretary of Education.'}\n",
      "https://www.congress.gov/nomination/115th-congress/104\n",
      "{'description_ul_text': 'Courtney Elwood, of Virginia, to be General Counsel of the Central Intelligence Agency, vice Caroline Diane Krass, resigned.'}\n",
      "https://www.congress.gov/nomination/115th-congress/90\n",
      "{'description_ul_text': 'Sonny Perdue, of Georgia, to be Secretary of Agriculture.'}\n",
      "https://www.congress.gov/nomination/115th-congress/32\n",
      "{'description_ul_text': 'Wilbur L. Ross, Jr., of Florida, to be Secretary of Commerce.'}\n",
      "https://www.congress.gov/nomination/115th-congress/117\n",
      "{'description_ul_text': 'William Francis Hagerty IV, of Tennessee, to be Ambassador Extraordinary and Plenipotentiary of the United States of America to Japan.'}\n",
      "https://www.congress.gov/nomination/115th-congress/372\n",
      "{'description_ul_text': 'Kevin Christopher Newsom, of Alabama, to be United States Circuit Judge for the Eleventh Circuit, vice Joel F. Dubina, retired.'}\n",
      "https://www.congress.gov/nomination/115th-congress/31\n",
      "{'description_ul_text': 'Ryan Zinke, of Montana, to be Secretary of the Interior.'}\n",
      "http://www.congress.gov/bill/115th-congress/senate-bill/89\n",
      "{'sponsor_td_text': 'Sen. McCaskill, Claire [D-MO] (Introduced 01/10/2017)', 'sponsor_party': 'D'}\n",
      "https://www.congress.gov/nomination/115th-congress/696\n",
      "{'description_ul_text': 'Christopher A. Wray, of Georgia, to be Director of the Federal Bureau of Investigation for a term of ten years, vice James B. Comey, Jr.'}\n",
      "https://www.congress.gov/nomination/115th-congress/30\n",
      "{'description_ul_text': 'Jeff Sessions, of Alabama, to be Attorney General.'}\n",
      "http://www.congress.gov/bill/115th-congress/house-joint-resolution/43\n",
      "{'sponsor_td_text': 'Rep. Black, Diane [R-TN-6] (Introduced 01/30/2017)', 'sponsor_party': 'R'}\n",
      "http://www.congress.gov/bill/115th-congress/house-joint-resolution/66\n",
      "{'sponsor_td_text': 'Rep. Walberg, Tim [R-MI-7] (Introduced 02/07/2017)', 'sponsor_party': 'R'}\n",
      "https://www.congress.gov/nomination/115th-congress/42\n",
      "{'description_ul_text': 'Robert Lighthizer, of Florida, to be United States Trade Representative, with the rank of Ambassador Extraordinary and Plenipotentiary.'}\n",
      "https://www.congress.gov/nomination/115th-congress/54\n",
      "{'description_ul_text': 'Mick Mulvaney, of South Carolina, to be Director of the Office of Management and Budget, vice Shaun L. S. Donovan, resigned.'}\n",
      "http://www.congress.gov/bill/115th-congress/senate-bill/84\n",
      "{'sponsor_td_text': 'Sen. McCain, John [R-AZ] (Introduced 01/10/2017)', 'sponsor_party': 'R'}\n",
      "https://www.congress.gov/nomination/115th-congress/41\n",
      "{'description_ul_text': 'Daniel Coats, of Indiana, to be Director of National Intelligence, vice James R. Clapper, Jr.'}\n",
      "http://www.congress.gov/bill/115th-congress/house-joint-resolution/38\n",
      "{'sponsor_td_text': 'Rep. Johnson, Bill [R-OH-6] (Introduced 01/30/2017)', 'sponsor_party': 'R'}\n",
      "http://www.congress.gov/bill/115th-congress/senate-bill/722\n",
      "{'sponsor_td_text': 'Sen. Corker, Bob [R-TN] (Introduced 03/23/2017)', 'sponsor_party': 'R'}\n",
      "http://www.congress.gov/bill/115th-congress/house-joint-resolution/67\n",
      "{'sponsor_td_text': 'Rep. Rooney, Francis [R-FL-19] (Introduced 02/07/2017)', 'sponsor_party': 'R'}\n",
      "http://www.congress.gov/bill/115th-congress/house-bill/72\n",
      "{'sponsor_td_text': 'Rep. Carter, Earl L. \"Buddy\" [R-GA-1] (Introduced 01/03/2017)', 'sponsor_party': 'R'}\n",
      "https://www.congress.gov/nomination/115th-congress/44\n",
      "{'description_ul_text': 'Scott Pruitt, of Oklahoma, to be Administrator of the Environmental Protection Agency.'}\n",
      "https://www.congress.gov/nomination/115th-congress/583\n",
      "{'description_ul_text': 'Patrick M. Shanahan, of Washington, to be Deputy Secretary of Defense, vice Robert O. Work, resigned.'}\n",
      "https://www.congress.gov/nomination/115th-congress/478\n",
      "{'description_ul_text': 'Neomi Rao, of the District of Columbia, to be Administrator of the Office of Information and Regulatory Affairs, Office of Management and Budget, vice Howard A. Shelanski.'}\n",
      "http://www.congress.gov/bill/115th-congress/house-joint-resolution/57\n",
      "{'sponsor_td_text': 'Rep. Rokita, Todd [R-IN-4] (Introduced 02/01/2017)', 'sponsor_party': 'R'}\n",
      "https://www.congress.gov/nomination/115th-congress/35\n",
      "{'description_ul_text': 'Elaine L. Chao, of Kentucky, to be Secretary of Transportation.'}\n"
     ]
    }
   ],
   "source": [
    "issue_link_to_details = {}\n",
    "\n",
    "for issue_link in issue_link_to_html:\n",
    "    issue_details = {}\n",
    "    print(issue_link)\n",
    "    \n",
    "    issue_html = issue_link_to_html[issue_link]\n",
    "    issue_soup = BeautifulSoup(issue_html, 'html.parser')\n",
    "    \n",
    "    issue_soup_tr = issue_soup.find_all('tr')\n",
    "    for issue_soup_tr_i in issue_soup_tr:\n",
    "        if \"Sponsor\" in issue_soup_tr_i.text:\n",
    "            sponsor_td_text = issue_soup_tr_i.find_next('td').text\n",
    "            sponsor_party_matchedobject = re.search(r'\\[(.)-', sponsor_td_text)\n",
    "            \n",
    "            issue_details[\"sponsor_td_text\"] = sponsor_td_text\n",
    "            issue_details[\"sponsor_party\"]   = sponsor_party_matchedobject.groups(1)[0]\n",
    "            print(issue_details)\n",
    "            break\n",
    "    \n",
    "    issue_soup_h2 = issue_soup.find_all('h2')\n",
    "    for issue_soup_h2_i in issue_soup_h2:\n",
    "        if \"Description\" in issue_soup_h2_i.text \\\n",
    "        or \"Formal Title\" in issue_soup_h2_i.text \\\n",
    "        or \"Nomination\" in issue_soup_h2_i.text:\n",
    "            description_ul_text = issue_soup_h2_i.find_next('ul').text\n",
    "            \n",
    "            issue_details[\"description_ul_text\"] = description_ul_text.strip()\n",
    "            print(issue_details)\n",
    "            break\n",
    "    \n",
    "    if not issue_details:\n",
    "        print(\"NOTHING???\")\n",
    "    \n",
    "    issue_details['label_text'] = issue_soup.find('h2', 'label_text').text\n",
    "    issue_link_to_details[issue_link] = issue_details"
   ]
  },
  {
   "cell_type": "code",
   "execution_count": 56,
   "metadata": {
    "scrolled": true
   },
   "outputs": [
    {
     "data": {
      "text/plain": [
       "{'http://www.congress.gov/bill/115th-congress/house-bill/1628': {'label_text': 'Bill',\n",
       "  'sponsor_party': 'R',\n",
       "  'sponsor_td_text': 'Rep. Black, Diane [R-TN-6] (Introduced 03/20/2017)'},\n",
       " 'http://www.congress.gov/bill/115th-congress/house-bill/2430': {'label_text': 'Bill',\n",
       "  'sponsor_party': 'R',\n",
       "  'sponsor_td_text': 'Rep. Walden, Greg [R-OR-2] (Introduced 05/16/2017)'},\n",
       " 'http://www.congress.gov/bill/115th-congress/house-bill/244': {'label_text': 'Law',\n",
       "  'sponsor_party': 'R',\n",
       "  'sponsor_td_text': 'Rep. Cook, Paul [R-CA-8] (Introduced 01/04/2017)'},\n",
       " 'http://www.congress.gov/bill/115th-congress/house-bill/3364': {'label_text': 'Law',\n",
       "  'sponsor_party': 'R',\n",
       "  'sponsor_td_text': 'Rep. Royce, Edward R. [R-CA-39] (Introduced 07/24/2017)'},\n",
       " 'http://www.congress.gov/bill/115th-congress/house-bill/72': {'label_text': 'Law',\n",
       "  'sponsor_party': 'R',\n",
       "  'sponsor_td_text': 'Rep. Carter, Earl L. \"Buddy\" [R-GA-1] (Introduced 01/03/2017)'},\n",
       " 'http://www.congress.gov/bill/115th-congress/house-joint-resolution/36': {'label_text': 'Bill',\n",
       "  'sponsor_party': 'R',\n",
       "  'sponsor_td_text': 'Rep. Bishop, Rob [R-UT-1] (Introduced 01/30/2017)'},\n",
       " 'http://www.congress.gov/bill/115th-congress/house-joint-resolution/37': {'label_text': 'Law',\n",
       "  'sponsor_party': 'R',\n",
       "  'sponsor_td_text': 'Rep. Foxx, Virginia [R-NC-5] (Introduced 01/30/2017)'},\n",
       " 'http://www.congress.gov/bill/115th-congress/house-joint-resolution/38': {'label_text': 'Law',\n",
       "  'sponsor_party': 'R',\n",
       "  'sponsor_td_text': 'Rep. Johnson, Bill [R-OH-6] (Introduced 01/30/2017)'},\n",
       " 'http://www.congress.gov/bill/115th-congress/house-joint-resolution/40': {'label_text': 'Law',\n",
       "  'sponsor_party': 'R',\n",
       "  'sponsor_td_text': 'Rep. Johnson, Sam [R-TX-3] (Introduced 01/30/2017)'},\n",
       " 'http://www.congress.gov/bill/115th-congress/house-joint-resolution/41': {'label_text': 'Law',\n",
       "  'sponsor_party': 'R',\n",
       "  'sponsor_td_text': 'Rep. Huizenga, Bill [R-MI-2] (Introduced 01/30/2017)'},\n",
       " 'http://www.congress.gov/bill/115th-congress/house-joint-resolution/42': {'label_text': 'Law',\n",
       "  'sponsor_party': 'R',\n",
       "  'sponsor_td_text': 'Rep. Brady, Kevin [R-TX-8] (Introduced 01/30/2017)'},\n",
       " 'http://www.congress.gov/bill/115th-congress/house-joint-resolution/43': {'label_text': 'Law',\n",
       "  'sponsor_party': 'R',\n",
       "  'sponsor_td_text': 'Rep. Black, Diane [R-TN-6] (Introduced 01/30/2017)'},\n",
       " 'http://www.congress.gov/bill/115th-congress/house-joint-resolution/44': {'label_text': 'Law',\n",
       "  'sponsor_party': 'R',\n",
       "  'sponsor_td_text': 'Rep. Cheney, Liz [R-WY-At Large] (Introduced 01/30/2017)'},\n",
       " 'http://www.congress.gov/bill/115th-congress/house-joint-resolution/57': {'label_text': 'Law',\n",
       "  'sponsor_party': 'R',\n",
       "  'sponsor_td_text': 'Rep. Rokita, Todd [R-IN-4] (Introduced 02/01/2017)'},\n",
       " 'http://www.congress.gov/bill/115th-congress/house-joint-resolution/58': {'label_text': 'Law',\n",
       "  'sponsor_party': 'R',\n",
       "  'sponsor_td_text': 'Rep. Guthrie, Brett [R-KY-2] (Introduced 02/01/2017)'},\n",
       " 'http://www.congress.gov/bill/115th-congress/house-joint-resolution/66': {'label_text': 'Law',\n",
       "  'sponsor_party': 'R',\n",
       "  'sponsor_td_text': 'Rep. Walberg, Tim [R-MI-7] (Introduced 02/07/2017)'},\n",
       " 'http://www.congress.gov/bill/115th-congress/house-joint-resolution/67': {'label_text': 'Law',\n",
       "  'sponsor_party': 'R',\n",
       "  'sponsor_td_text': 'Rep. Rooney, Francis [R-FL-19] (Introduced 02/07/2017)'},\n",
       " 'http://www.congress.gov/bill/115th-congress/house-joint-resolution/69': {'label_text': 'Law',\n",
       "  'sponsor_party': 'R',\n",
       "  'sponsor_td_text': 'Rep. Young, Don [R-AK-At Large] (Introduced 02/07/2017)'},\n",
       " 'http://www.congress.gov/bill/115th-congress/house-joint-resolution/83': {'label_text': 'Law',\n",
       "  'sponsor_party': 'R',\n",
       "  'sponsor_td_text': 'Rep. Byrne, Bradley [R-AL-1] (Introduced 02/21/2017)'},\n",
       " 'http://www.congress.gov/bill/115th-congress/senate-bill/722': {'label_text': 'Bill',\n",
       "  'sponsor_party': 'R',\n",
       "  'sponsor_td_text': 'Sen. Corker, Bob [R-TN] (Introduced 03/23/2017)'},\n",
       " 'http://www.congress.gov/bill/115th-congress/senate-bill/84': {'label_text': 'Law',\n",
       "  'sponsor_party': 'R',\n",
       "  'sponsor_td_text': 'Sen. McCain, John [R-AZ] (Introduced 01/10/2017)'},\n",
       " 'http://www.congress.gov/bill/115th-congress/senate-bill/89': {'label_text': 'Bill',\n",
       "  'sponsor_party': 'D',\n",
       "  'sponsor_td_text': 'Sen. McCaskill, Claire [D-MO] (Introduced 01/10/2017)'},\n",
       " 'http://www.congress.gov/bill/115th-congress/senate-concurrent-resolution/3': {'label_text': 'Concurrent Resolution',\n",
       "  'sponsor_party': 'R',\n",
       "  'sponsor_td_text': 'Sen. Enzi, Michael B. [R-WY] (Introduced 01/03/2017)'},\n",
       " 'http://www.congress.gov/bill/115th-congress/senate-joint-resolution/34': {'label_text': 'Law',\n",
       "  'sponsor_party': 'R',\n",
       "  'sponsor_td_text': 'Sen. Flake, Jeff [R-AZ] (Introduced 03/07/2017)'},\n",
       " 'http://www.congress.gov/bill/115th-congress/senate-joint-resolution/42': {'label_text': 'Bill',\n",
       "  'sponsor_party': 'R',\n",
       "  'sponsor_td_text': 'Sen. Paul, Rand [R-KY] (Introduced 05/25/2017)'},\n",
       " 'http://www.congress.gov/bill/115th-congress/senate-resolution/176': {'label_text': 'Resolution',\n",
       "  'sponsor_party': 'R',\n",
       "  'sponsor_td_text': 'Sen. McConnell, Mitch [R-KY] (Introduced 05/24/2017)'},\n",
       " 'https://www.congress.gov/nomination/115th-congress/101': {'description_ul_text': 'Heather Wilson, of South Dakota, to be Secretary of the Air Force, vice Deborah Lee James.',\n",
       "  'label_text': 'Nomination'},\n",
       " 'https://www.congress.gov/nomination/115th-congress/102': {'description_ul_text': 'Jeffrey A. Rosen, of Virginia, to be Deputy Secretary of Transportation, vice Victor M. Mendez.',\n",
       "  'label_text': 'Nomination'},\n",
       " 'https://www.congress.gov/nomination/115th-congress/104': {'description_ul_text': 'Courtney Elwood, of Virginia, to be General Counsel of the Central Intelligence Agency, vice Caroline Diane Krass, resigned.',\n",
       "  'label_text': 'Nomination'},\n",
       " 'https://www.congress.gov/nomination/115th-congress/105': {'description_ul_text': 'Amul R. Thapar, of Kentucky, to be United States Circuit Judge for the Sixth Circuit, vice Boyce F. Martin Jr., retired.',\n",
       "  'label_text': 'Nomination'},\n",
       " 'https://www.congress.gov/nomination/115th-congress/117': {'description_ul_text': 'William Francis Hagerty IV, of Tennessee, to be Ambassador Extraordinary and Plenipotentiary of the United States of America to Japan.',\n",
       "  'label_text': 'Nomination'},\n",
       " 'https://www.congress.gov/nomination/115th-congress/118': {'description_ul_text': 'Scott Gottlieb, of Connecticut, to be Commissioner of Food and Drugs, Department of Health and Human Services, vice Robert McKinnon Califf.',\n",
       "  'label_text': 'Nomination'},\n",
       " 'https://www.congress.gov/nomination/115th-congress/172': {'description_ul_text': 'Sigal Mandelker, of New York, to be Under Secretary for Terrorism and Financial Crimes, vice David S. Cohen, resigned.',\n",
       "  'label_text': 'Nomination'},\n",
       " 'https://www.congress.gov/nomination/115th-congress/25': {'description_ul_text': 'Rex W. Tillerson, of Texas, to be Secretary of State.',\n",
       "  'label_text': 'Nomination'},\n",
       " 'https://www.congress.gov/nomination/115th-congress/26': {'description_ul_text': 'Steven T. Mnuchin, of California, to be Secretary of the Treasury.',\n",
       "  'label_text': 'Nomination'},\n",
       " 'https://www.congress.gov/nomination/115th-congress/29': {'description_ul_text': 'James Mattis, of Washington, to be Secretary of Defense.',\n",
       "  'label_text': 'Nomination'},\n",
       " 'https://www.congress.gov/nomination/115th-congress/30': {'description_ul_text': 'Jeff Sessions, of Alabama, to be Attorney General.',\n",
       "  'label_text': 'Nomination'},\n",
       " 'https://www.congress.gov/nomination/115th-congress/31': {'description_ul_text': 'Ryan Zinke, of Montana, to be Secretary of the Interior.',\n",
       "  'label_text': 'Nomination'},\n",
       " 'https://www.congress.gov/nomination/115th-congress/32': {'description_ul_text': 'Wilbur L. Ross, Jr., of Florida, to be Secretary of Commerce.',\n",
       "  'label_text': 'Nomination'},\n",
       " 'https://www.congress.gov/nomination/115th-congress/33': {'description_ul_text': 'Thomas Price, of Georgia, to be Secretary of Health and Human Services.',\n",
       "  'label_text': 'Nomination'},\n",
       " 'https://www.congress.gov/nomination/115th-congress/34': {'description_ul_text': 'Benjamin S. Carson, Sr., of Florida, to be Secretary of Housing and Urban Development.',\n",
       "  'label_text': 'Nomination'},\n",
       " 'https://www.congress.gov/nomination/115th-congress/348': {'description_ul_text': 'Kenneth P. Rapuano, of Virginia, to be an Assistant Secretary of Defense, vice Eric Rosenbach, resigned.',\n",
       "  'label_text': 'Nomination'},\n",
       " 'https://www.congress.gov/nomination/115th-congress/349': {'description_ul_text': 'Scott P. Brown, of New Hampshire, to be Ambassador Extraordinary and Plenipotentiary of the United States of America to New Zealand, and to serve concurrently and without additional compensation as Ambassador Extraordinary and Plenipotentiary of the United States of America to the Independent State of Samoa.',\n",
       "  'label_text': 'Nomination'},\n",
       " 'https://www.congress.gov/nomination/115th-congress/35': {'description_ul_text': 'Elaine L. Chao, of Kentucky, to be Secretary of Transportation.',\n",
       "  'label_text': 'Nomination'},\n",
       " 'https://www.congress.gov/nomination/115th-congress/350': {'description_ul_text': 'John J. Sullivan, of Maryland, to be Deputy Secretary of State, vice Antony Blinken, resigned.',\n",
       "  'label_text': 'Nomination'},\n",
       " 'https://www.congress.gov/nomination/115th-congress/36': {'description_ul_text': 'James Richard Perry, of Texas, to be Secretary of Energy.',\n",
       "  'label_text': 'Nomination'},\n",
       " 'https://www.congress.gov/nomination/115th-congress/365': {'description_ul_text': 'David Bernhardt, of Virginia, to be Deputy Secretary of the Interior, vice Michael L. Connor.',\n",
       "  'label_text': 'Nomination'},\n",
       " 'https://www.congress.gov/nomination/115th-congress/366': {'description_ul_text': 'Marshall Billingslea, of Virginia, to be Assistant Secretary for Terrorist Financing, Department of the Treasury, vice Daniel L. Glaser.',\n",
       "  'label_text': 'Nomination'},\n",
       " 'https://www.congress.gov/nomination/115th-congress/37': {'description_ul_text': 'Elisabeth Prince DeVos, of Michigan, to be Secretary of Education.',\n",
       "  'label_text': 'Nomination'},\n",
       " 'https://www.congress.gov/nomination/115th-congress/370': {'description_ul_text': 'John Kenneth Bush, of Kentucky, to be United States Circuit Judge for the Sixth Circuit, vice Danny J. Boggs, retired.',\n",
       "  'label_text': 'Nomination'},\n",
       " 'https://www.congress.gov/nomination/115th-congress/372': {'description_ul_text': 'Kevin Christopher Newsom, of Alabama, to be United States Circuit Judge for the Eleventh Circuit, vice Joel F. Dubina, retired.',\n",
       "  'label_text': 'Nomination'},\n",
       " 'https://www.congress.gov/nomination/115th-congress/373': {'description_ul_text': 'David C. Nye, of Idaho, to be United States District Judge for the District of Idaho, vice Edward J. Lodge, retired.',\n",
       "  'label_text': 'Nomination'},\n",
       " 'https://www.congress.gov/nomination/115th-congress/39': {'description_ul_text': 'David J. Shulkin, of Pennsylvania, to be Secretary of Veterans Affairs.',\n",
       "  'label_text': 'Nomination'},\n",
       " 'https://www.congress.gov/nomination/115th-congress/40': {'description_ul_text': 'John F. Kelly, of Virginia, to be Secretary of Homeland Security.',\n",
       "  'label_text': 'Nomination'},\n",
       " 'https://www.congress.gov/nomination/115th-congress/41': {'description_ul_text': 'Daniel Coats, of Indiana, to be Director of National Intelligence, vice James R. Clapper, Jr.',\n",
       "  'label_text': 'Nomination'},\n",
       " 'https://www.congress.gov/nomination/115th-congress/42': {'description_ul_text': 'Robert Lighthizer, of Florida, to be United States Trade Representative, with the rank of Ambassador Extraordinary and Plenipotentiary.',\n",
       "  'label_text': 'Nomination'},\n",
       " 'https://www.congress.gov/nomination/115th-congress/43': {'description_ul_text': 'Mike Pompeo, of Kansas, to be Director of the Central Intelligence Agency, vice John Owen Brennan.',\n",
       "  'label_text': 'Nomination'},\n",
       " 'https://www.congress.gov/nomination/115th-congress/44': {'description_ul_text': 'Scott Pruitt, of Oklahoma, to be Administrator of the Environmental Protection Agency.',\n",
       "  'label_text': 'Nomination'},\n",
       " 'https://www.congress.gov/nomination/115th-congress/455': {'description_ul_text': 'Brock Long, of North Carolina, to be Administrator of the Federal Emergency Management Agency, Department of Homeland Security, vice William Craig Fugate, resigned.',\n",
       "  'label_text': 'Nomination'},\n",
       " 'https://www.congress.gov/nomination/115th-congress/459': {'description_ul_text': 'Dan R. Brouillette, of Texas, to be Deputy Secretary of Energy, vice Elizabeth Sherwood-Randall.',\n",
       "  'label_text': 'Nomination'},\n",
       " 'https://www.congress.gov/nomination/115th-congress/47': {'description_ul_text': 'Jay Clayton, of New York, to be a Member of the Securities and Exchange Commission for a term expiring June 5, 2021, vice Daniel M. Gallagher, Jr. (term expired).',\n",
       "  'label_text': 'Nomination'},\n",
       " 'https://www.congress.gov/nomination/115th-congress/478': {'description_ul_text': 'Neomi Rao, of the District of Columbia, to be Administrator of the Office of Information and Regulatory Affairs, Office of Management and Budget, vice Howard A. Shelanski.',\n",
       "  'label_text': 'Nomination'},\n",
       " 'https://www.congress.gov/nomination/115th-congress/48': {'description_ul_text': 'Linda E. McMahon, of Connecticut, to be Administrator of the Small Business Administration, vice Maria Contreras-Sweet, resigned.',\n",
       "  'label_text': 'Nomination'},\n",
       " 'https://www.congress.gov/nomination/115th-congress/49': {'description_ul_text': 'Seema Verma, of Indiana, to be Administrator of the Centers for Medicare and Medicaid Services, vice Marilyn B. Tavenner.',\n",
       "  'label_text': 'Nomination'},\n",
       " 'https://www.congress.gov/nomination/115th-congress/51': {'description_ul_text': 'Nikki R. Haley, of South Carolina, to be Representative of the United States of America to the Sessions of the General Assembly of the United Nations during her tenure of service as Representative of the United States of America to the United Nations.',\n",
       "  'label_text': 'Nomination'},\n",
       " 'https://www.congress.gov/nomination/115th-congress/52': {'description_ul_text': \"Terry Branstad, of Iowa, to be Ambassador Extraordinary and Plenipotentiary of the United States of America to the People's Republic of China.\",\n",
       "  'label_text': 'Nomination'},\n",
       " 'https://www.congress.gov/nomination/115th-congress/53': {'description_ul_text': 'David Friedman, of New York, to be Ambassador Extraordinary and Plenipotentiary of the United States of America to Israel.',\n",
       "  'label_text': 'Nomination'},\n",
       " 'https://www.congress.gov/nomination/115th-congress/54': {'description_ul_text': 'Mick Mulvaney, of South Carolina, to be Director of the Office of Management and Budget, vice Shaun L. S. Donovan, resigned.',\n",
       "  'label_text': 'Nomination'},\n",
       " 'https://www.congress.gov/nomination/115th-congress/55': {'description_ul_text': 'Neil M. Gorsuch, of Colorado, to be an Associate Justice of the Supreme Court of the United States, vice Antonin Scalia, deceased.',\n",
       "  'label_text': 'Nomination'},\n",
       " 'https://www.congress.gov/nomination/115th-congress/56': {'description_ul_text': 'Rod J. Rosenstein, of Maryland, to be Deputy Attorney General, vice Sally Quillian Yates, resigned.',\n",
       "  'label_text': 'Nomination'},\n",
       " 'https://www.congress.gov/nomination/115th-congress/561': {'description_ul_text': 'Kristine L. Svinicki, of Virginia, to be a Member of the Nuclear Regulatory Commission for the term of five years expiring June 30, 2022.  (Reappointment)',\n",
       "  'label_text': 'Nomination'},\n",
       " 'https://www.congress.gov/nomination/115th-congress/57': {'description_ul_text': 'Rachel L. Brand, of Iowa, to be Associate Attorney General, vice Derek Anthony West, resigned.',\n",
       "  'label_text': 'Nomination'},\n",
       " 'https://www.congress.gov/nomination/115th-congress/583': {'description_ul_text': 'Patrick M. Shanahan, of Washington, to be Deputy Secretary of Defense, vice Robert O. Work, resigned.',\n",
       "  'label_text': 'Nomination'},\n",
       " 'https://www.congress.gov/nomination/115th-congress/59': {'description_ul_text': 'Elaine C. Duke, of Virginia, to be Deputy Secretary of Homeland Security, vice Alejandro Nicholas Mayorkas.',\n",
       "  'label_text': 'Nomination'},\n",
       " 'https://www.congress.gov/nomination/115th-congress/681': {'description_ul_text': 'Marvin Kaplan, of Kansas, to be a Member of the National Labor Relations Board for the term of five years expiring August 27, 2020, vice Harry I. Johnson III, resigned.',\n",
       "  'label_text': 'Nomination'},\n",
       " 'https://www.congress.gov/nomination/115th-congress/696': {'description_ul_text': 'Christopher A. Wray, of Georgia, to be Director of the Federal Bureau of Investigation for a term of ten years, vice James B. Comey, Jr.',\n",
       "  'label_text': 'Nomination'},\n",
       " 'https://www.congress.gov/nomination/115th-congress/85': {'description_ul_text': 'Danny C. Reeves, of Kentucky, to be a Member of the United States Sentencing Commission for a term expiring October 31, 2019, vice Ricardo H. Hinojosa, term expired.',\n",
       "  'label_text': 'Nomination'},\n",
       " 'https://www.congress.gov/nomination/115th-congress/87': {'description_ul_text': 'One nomination, beginning with Lt. Gen. Herbert R. McMaster Jr. and ending with Lt. Gen. Herbert R. McMaster Jr.',\n",
       "  'label_text': 'Nomination'},\n",
       " 'https://www.congress.gov/nomination/115th-congress/88': {'description_ul_text': 'R. Alexander Acosta, of Florida, to be Secretary of Labor.',\n",
       "  'label_text': 'Nomination'},\n",
       " 'https://www.congress.gov/nomination/115th-congress/90': {'description_ul_text': 'Sonny Perdue, of Georgia, to be Secretary of Agriculture.',\n",
       "  'label_text': 'Nomination'},\n",
       " 'https://www.congress.gov/treaty-document/114th-congress/12': {'description_ul_text': 'Protocol to the North Atlantic Treaty of 1949 on the Accession of Montenegro',\n",
       "  'label_text': 'Treaty Document'}}"
      ]
     },
     "execution_count": 56,
     "metadata": {},
     "output_type": "execute_result"
    }
   ],
   "source": [
    "issue_link_to_details"
   ]
  },
  {
   "cell_type": "code",
   "execution_count": null,
   "metadata": {
    "collapsed": true
   },
   "outputs": [],
   "source": []
  },
  {
   "cell_type": "code",
   "execution_count": null,
   "metadata": {
    "collapsed": true
   },
   "outputs": [],
   "source": []
  }
 ],
 "metadata": {
  "kernelspec": {
   "display_name": "Python 3",
   "language": "python",
   "name": "python3"
  },
  "language_info": {
   "codemirror_mode": {
    "name": "ipython",
    "version": 3
   },
   "file_extension": ".py",
   "mimetype": "text/x-python",
   "name": "python",
   "nbconvert_exporter": "python",
   "pygments_lexer": "ipython3",
   "version": "3.6.1"
  }
 },
 "nbformat": 4,
 "nbformat_minor": 2
}
